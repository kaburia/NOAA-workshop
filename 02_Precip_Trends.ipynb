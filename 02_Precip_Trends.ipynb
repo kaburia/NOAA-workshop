{
 "cells": [
  {
   "cell_type": "markdown",
   "id": "f550c41d",
   "metadata": {},
   "source": [
    "# Focus Area 2 — Next-Gen Precipitation for Trends & Extremes\n",
    "**Core Objective**: To compare next-generation precipitation datasets for historical trends,\n",
    "anomalies, and extreme event performance, enabling NMHS to select optimal products for\n",
    "climate monitoring and risk assessment."
   ]
  },
  {
   "cell_type": "code",
   "execution_count": null,
   "id": "0ca1c308",
   "metadata": {},
   "outputs": [],
   "source": [
    "import sys\n",
    "import os"
   ]
  },
  {
   "cell_type": "markdown",
   "id": "005b98a8",
   "metadata": {},
   "source": [
    "## Data Extraction and Loading\n",
    "1. Satellite/model daily precip NetCDFs: TAMSAT, GPM/IMERG, ERA5, CBAM → precip (mm/day) \n",
    "2. Extract GHCNd Data\n",
    "3. Load TAHMO data previously extracted in session 1"
   ]
  },
  {
   "cell_type": "markdown",
   "id": "a882bfff",
   "metadata": {},
   "source": [
    "### Extract TAMSAT Data (Satellite Product)"
   ]
  },
  {
   "cell_type": "code",
   "execution_count": null,
   "id": "5b87c28d",
   "metadata": {},
   "outputs": [],
   "source": [
    "!git clone https://github.com/TAMSAT/tamsat_download_extraction_api"
   ]
  },
  {
   "cell_type": "code",
   "execution_count": null,
   "id": "4af4006a",
   "metadata": {},
   "outputs": [],
   "source": [
    "file_path = \"tamsat_download_extraction_api/tamsat_download_extract_api.py\"\n",
    "\n",
    "# Read the file\n",
    "with open(file_path, \"r\") as file:\n",
    "    content = file.read()\n",
    "\n",
    "# Replace np.float with np.float64\n",
    "content = content.replace(\"np.float\", \"np.float64\")\n",
    "\n",
    "# Write back the modified content\n",
    "with open(file_path, \"w\") as file:\n",
    "    file.write(content)\n",
    "\n",
    "print(\"Successfully replaced np.float with np.float64.\")\n"
   ]
  },
  {
   "cell_type": "code",
   "execution_count": null,
   "id": "ffb2e0a0",
   "metadata": {},
   "outputs": [],
   "source": [
    "sys.path.append('tamsat_download_extraction_api')\n",
    "\n",
    "from tamsat_download_extract_api import download, extract\n",
    "\n",
    "curr_dir = os.getcwd()\n",
    "\n",
    "# Download data\n",
    "download({\n",
    " \"timestep\": 'monthly',\n",
    " \"resolution\": 0.0375,\n",
    " \"start_date\": '1981-01-01',\n",
    " \"end_date\": '2025-05-29',\n",
    " \"version\": 3.1,\n",
    " \"localdata_dir\": f\"{os.path.join(curr_dir, 'tamsat_data')}\"\n",
    " })"
   ]
  },
  {
   "cell_type": "code",
   "execution_count": null,
   "id": "f80600d9",
   "metadata": {},
   "outputs": [],
   "source": [
    "kenya_w, kenya_s, kenya_e, kenya_n = bbox_from_polygon('Kenya', maps_key)\n",
    "\n",
    "extract({\n",
    "    \"extract_type\": 'domain',\n",
    "    \"S\": kenya_s,\n",
    "    \"N\": kenya_n,\n",
    "    \"W\": kenya_w,\n",
    "    \"E\": kenya_e,\n",
    "    \"timestep\": 'daily',\n",
    "    \"start_date\": '2023-01-01',\n",
    "    \"end_date\": '2023-01-31',\n",
    "    \"version\": 3.1,\n",
    "    \"localdata_dir\": f\"{os.path.join(curr_dir, 'tamsat_data')}\",\n",
    "    \"resolution\": 0.0375\n",
    "})"
   ]
  },
  {
   "cell_type": "markdown",
   "id": "b7c0f028",
   "metadata": {},
   "source": [
    "## Extract IMERG Data (Satellite Product)\n",
    "Using Google Earth Engine"
   ]
  },
  {
   "cell_type": "code",
   "execution_count": null,
   "id": "05093f6c",
   "metadata": {},
   "outputs": [],
   "source": []
  },
  {
   "cell_type": "markdown",
   "id": "ebd85e2e",
   "metadata": {},
   "source": [
    "## Extract ERA5 (Reanalysis Product)"
   ]
  },
  {
   "cell_type": "code",
   "execution_count": null,
   "id": "2d002c55",
   "metadata": {},
   "outputs": [],
   "source": [
    "start_date = '2023-01-01T00:00:00'\n",
    "end_date   = '2023-01-31T00:00:00'\n",
    "region_name = 'Kenya'\n",
    "era5_ke_data = era5_data_extracts(region_name, start_date, end_date, maps_key, era5_l=False)\n",
    "\n",
    "te_ds_era5_ke = era5_var_handling(era5_ke_data, 'temperature_2m', xarray_ds=True)\n",
    "pr_ds_era5_ke = era5_var_handling(era5_ke_data, 'total_precipitation', xarray_ds=True)\n",
    "# ws_ds_era5_gh = era5_var_handling(era5_gh_data, 'wind_speed', xarray_ds=True)\n",
    "merged_era5_ke = xr.merge([te_ds_era5_ke, pr_ds_era5_ke])\n",
    "# sort the latitudes\n",
    "merged_era5_ke = merged_era5_ke.sortby('lat')\n",
    "# sort the longitudes\n",
    "merged_era5_ke = merged_era5_ke.sortby('lon')"
   ]
  },
  {
   "cell_type": "code",
   "execution_count": null,
   "id": "036aff03",
   "metadata": {},
   "outputs": [],
   "source": [
    "plot_xarray_data2(\n",
    "    xarray_ds=merged_era5_ke,\n",
    "    fig_title=\"ERA5 Temperature and Precipitation Analysis in Kenya\",\n",
    "    columns=[\"temperature_2m\", \"total_precipitation\"],\n",
    "    plot_size=6,\n",
    "    region_name=\"Kenya\",\n",
    "    maps_key=maps_key\n",
    ")"
   ]
  },
  {
   "cell_type": "markdown",
   "id": "6eb08de6",
   "metadata": {},
   "source": [
    "## Extract CBAM Data"
   ]
  },
  {
   "cell_type": "code",
   "execution_count": null,
   "id": "0ccd33e7",
   "metadata": {},
   "outputs": [],
   "source": [
    "# Define parameters as shown in the docs\n",
    "product = 'cbam_historical_analysis'\n",
    "attribs = [\"max_temperature\", \"min_temperature\", \"total_rainfall\"]\n",
    "start_date = '2012-01-01'\n",
    "end_date = '2023-12-31'\n",
    "bbox = bbox_from_polygon(\"Dar es Salaam\", maps_key=maps_key)\n",
    "print(bbox)\n",
    "\n",
    "# Create a client and extract data\n",
    "client = CBAMClient('/content/Safe4All-workshop/config.json')\n",
    "cbam_data = extract_cbam_data(start_date=start_date, end_date=end_date,\n",
    "                         attributes=attribs, cbam_client=client, bbox=[39.0, -7.2, 39.5, -6.6],\n",
    "                         output_type='csv')\n"
   ]
  },
  {
   "cell_type": "markdown",
   "id": "36beeb07",
   "metadata": {},
   "source": [
    "## Data Processing\n",
    "1. Build country-wide LTN (e.g., 2014–2025) and anomalies.\n",
    "2. Compare skill of multiple rainfall products against ground for events vs climatology.\n",
    "\n",
    "3. Only use Ground stations with high confidence as determined in Focus area 1\n",
    "4. Rank products by RMSE, bias, correlation; articulate operational pros/cons.\n",
    "5. (New) Add significance tests for trends and visualize spatial biases."
   ]
  },
  {
   "cell_type": "code",
   "execution_count": null,
   "id": "f5ce9386",
   "metadata": {},
   "outputs": [],
   "source": []
  },
  {
   "cell_type": "code",
   "execution_count": null,
   "id": "38b465cb",
   "metadata": {},
   "outputs": [],
   "source": []
  },
  {
   "cell_type": "code",
   "execution_count": null,
   "id": "3a49c959",
   "metadata": {},
   "outputs": [],
   "source": []
  },
  {
   "cell_type": "code",
   "execution_count": null,
   "id": "e228f076",
   "metadata": {},
   "outputs": [],
   "source": []
  }
 ],
 "metadata": {
  "kernelspec": {
   "display_name": ".venv",
   "language": "python",
   "name": "python3"
  },
  "language_info": {
   "name": "python",
   "version": "3.10.11"
  }
 },
 "nbformat": 4,
 "nbformat_minor": 5
}
