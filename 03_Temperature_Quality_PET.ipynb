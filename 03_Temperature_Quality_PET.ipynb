{
  "cells": [
    {
      "cell_type": "markdown",
      "metadata": {
        "colab_type": "text",
        "id": "view-in-github"
      },
      "source": [
        "<a href=\"https://colab.research.google.com/github/kaburia/NOAA-workshop/blob/main/03_Temperature_Quality_PET.ipynb\" target=\"_parent\"><img src=\"https://colab.research.google.com/assets/colab-badge.svg\" alt=\"Open In Colab\"/></a>"
      ]
    },
    {
      "cell_type": "markdown",
      "id": "43eda2f0",
      "metadata": {
        "id": "43eda2f0"
      },
      "source": [
        "# Focus Area 3 — Temperature Quality &amp; Microclimates\n",
        "**Core Objective**: To demonstrate the advantages of high-resolution temperature data in\n",
        "capturing microclimates and computing derived metrics like PET, for better assessment of heat-\n",
        "related risks."
      ]
    },
    {
      "cell_type": "markdown",
      "id": "fa97e7ce",
      "metadata": {
        "id": "fa97e7ce"
      },
      "source": [
        "## Extract Temperature data\n",
        "- GHCN data\n",
        "- CBAM data\n",
        "- ERA5 data\n",
        "<br>\n",
        "\n",
        "EA: March 2025 heatwave, linking to health impacts.\n",
        "\n",
        "Use the current location and get the nearest GHCNd weather station and visualise the temperature over the last half a century"
      ]
    },
    {
      "cell_type": "markdown",
      "id": "f6df409a",
      "metadata": {
        "id": "f6df409a"
      },
      "source": [
        "Require 2 files\n",
        "- The Metadata file: TAHMO_Metadata.csv\n",
        "- The TAHMO data file: TAHMO_data.csv\n",
        "\n",
        "Metadata file format (Columns):\n",
        "<!DOCTYPE html>\n",
        "<html>\n",
        "<head>\n",
        "    <title>TAHMO Metadata</title>\n",
        "</head>\n",
        "<body>\n",
        "    <table border=\"1\">\n",
        "        <tr>\n",
        "            <th>Code</th>\n",
        "            <th>Latitude</th>\n",
        "            <th>Longitude</th>\n",
        "        </tr>\n",
        "        <tr>\n",
        "            <td>TA00283</td>\n",
        "            <td>1.2345</td>\n",
        "            <td>36.7890</td>\n",
        "        </tr>\n",
        "        <!-- More rows as needed -->\n",
        "    </table>\n",
        "</html>\n",
        "\n",
        "Data file format (Columns): Temperature / Precipitation data for multiple stations\n",
        "<html>\n",
        "<head>\n",
        "    <title>TAHMO Data</title>\n",
        "</head>\n",
        "<body>\n",
        "    <table border=\"1\">\n",
        "        <tr>\n",
        "            <th>Date</th>\n",
        "            <th>TA00283</th>\n",
        "            <th>TA00284</th>\n",
        "            <th>TA00285</th>\n",
        "            <!-- More station codes as needed -->\n",
        "        </tr>\n",
        "        <tr>\n",
        "            <td>2023-01-01</td>\n",
        "            <td>25.3</td>\n",
        "            <td>26.1</td>\n",
        "            <td>24.8</td>\n",
        "        </tr>\n",
        "        <!-- More rows as needed -->\n",
        "    </table>\n",
        "</html>"
      ]
    },
    {
      "cell_type": "code",
      "execution_count": 1,
      "id": "XWw3IATm-_J9",
      "metadata": {
        "colab": {
          "base_uri": "https://localhost:8080/"
        },
        "id": "XWw3IATm-_J9",
        "outputId": "e1e18c8c-b630-4ef8-c9d2-2d66929daa2d"
      },
      "outputs": [
        {
          "name": "stdout",
          "output_type": "stream",
          "text": [
            "Cloning into 'NOAA-workshop'...\n",
            "remote: Enumerating objects: 139, done.\u001b[K\n",
            "remote: Counting objects: 100% (3/3), done.\u001b[K\n",
            "remote: Compressing objects: 100% (3/3), done.\u001b[K\n",
            "remote: Total 139 (delta 2), reused 0 (delta 0), pack-reused 136 (from 1)\u001b[K\n",
            "Receiving objects: 100% (139/139), 38.20 MiB | 23.17 MiB/s, done.\n",
            "Resolving deltas: 100% (67/67), done.\n",
            "Collecting asttokens==3.0.0 (from -r requirements.txt (line 1))\n",
            "  Downloading asttokens-3.0.0-py3-none-any.whl.metadata (4.7 kB)\n",
            "Collecting blessings==1.7 (from -r requirements.txt (line 2))\n",
            "  Downloading blessings-1.7-py3-none-any.whl.metadata (19 kB)\n",
            "Requirement already satisfied: branca==0.8.1 in /usr/local/lib/python3.12/dist-packages (from -r requirements.txt (line 3)) (0.8.1)\n",
            "Requirement already satisfied: cachetools==5.5.2 in /usr/local/lib/python3.12/dist-packages (from -r requirements.txt (line 4)) (5.5.2)\n",
            "Collecting Cartopy==0.24.1 (from -r requirements.txt (line 5))\n",
            "  Downloading Cartopy-0.24.1-cp312-cp312-manylinux_2_17_x86_64.manylinux2014_x86_64.whl.metadata (7.9 kB)\n",
            "Collecting certifi==2025.1.31 (from -r requirements.txt (line 6))\n",
            "  Downloading certifi-2025.1.31-py3-none-any.whl.metadata (2.5 kB)\n",
            "Collecting cftime==1.6.4.post1 (from -r requirements.txt (line 7))\n",
            "  Downloading cftime-1.6.4.post1-cp312-cp312-manylinux_2_17_x86_64.manylinux2014_x86_64.whl.metadata (8.7 kB)\n",
            "Collecting charset-normalizer==3.4.1 (from -r requirements.txt (line 8))\n",
            "  Downloading charset_normalizer-3.4.1-cp312-cp312-manylinux_2_17_x86_64.manylinux2014_x86_64.whl.metadata (35 kB)\n",
            "Collecting colorama==0.4.6 (from -r requirements.txt (line 9))\n",
            "  Downloading colorama-0.4.6-py2.py3-none-any.whl.metadata (17 kB)\n",
            "Collecting comm==0.2.2 (from -r requirements.txt (line 10))\n",
            "  Downloading comm-0.2.2-py3-none-any.whl.metadata (3.7 kB)\n",
            "Collecting contourpy==1.3.1 (from -r requirements.txt (line 11))\n",
            "  Downloading contourpy-1.3.1-cp312-cp312-manylinux_2_17_x86_64.manylinux2014_x86_64.whl.metadata (5.4 kB)\n",
            "Requirement already satisfied: cycler==0.12.1 in /usr/local/lib/python3.12/dist-packages (from -r requirements.txt (line 12)) (0.12.1)\n",
            "Collecting DateTime==5.5 (from -r requirements.txt (line 13))\n",
            "  Downloading DateTime-5.5-py3-none-any.whl.metadata (33 kB)\n",
            "Collecting debugpy==1.8.13 (from -r requirements.txt (line 14))\n",
            "  Downloading debugpy-1.8.13-cp312-cp312-manylinux_2_5_x86_64.manylinux1_x86_64.manylinux_2_17_x86_64.manylinux2014_x86_64.whl.metadata (1.3 kB)\n",
            "Requirement already satisfied: decorator in /usr/local/lib/python3.12/dist-packages (from -r requirements.txt (line 15)) (4.4.2)\n",
            "Collecting earthengine-api==1.5.6 (from -r requirements.txt (line 16))\n",
            "  Downloading earthengine_api-1.5.6-py3-none-any.whl.metadata (2.1 kB)\n",
            "Collecting ee==0.2 (from -r requirements.txt (line 17))\n",
            "  Downloading ee-0.2.tar.gz (3.0 kB)\n",
            "  Preparing metadata (setup.py) ... \u001b[?25l\u001b[?25hdone\n",
            "Collecting exceptiongroup==1.2.2 (from -r requirements.txt (line 18))\n",
            "  Downloading exceptiongroup-1.2.2-py3-none-any.whl.metadata (6.6 kB)\n",
            "Collecting executing==2.2.0 (from -r requirements.txt (line 19))\n",
            "  Downloading executing-2.2.0-py2.py3-none-any.whl.metadata (8.9 kB)\n",
            "Collecting faostat==1.1.2 (from -r requirements.txt (line 20))\n",
            "  Downloading faostat-1.1.2-py3-none-any.whl.metadata (15 kB)\n",
            "Collecting filter_stations==0.6.2 (from -r requirements.txt (line 21))\n",
            "  Downloading filter_stations-0.6.2-py3-none-any.whl.metadata (2.2 kB)\n",
            "Collecting folium==0.19.5 (from -r requirements.txt (line 22))\n",
            "  Downloading folium-0.19.5-py2.py3-none-any.whl.metadata (4.1 kB)\n",
            "Collecting fonttools==4.56.0 (from -r requirements.txt (line 23))\n",
            "  Downloading fonttools-4.56.0-cp312-cp312-manylinux_2_5_x86_64.manylinux1_x86_64.manylinux_2_17_x86_64.manylinux2014_x86_64.whl.metadata (101 kB)\n",
            "\u001b[2K     \u001b[90m━━━━━━━━━━━━━━━━━━━━━━━━━━━━━━━━━━━━━━━\u001b[0m \u001b[32m101.9/101.9 kB\u001b[0m \u001b[31m6.3 MB/s\u001b[0m eta \u001b[36m0:00:00\u001b[0m\n",
            "\u001b[?25hCollecting geopandas==1.0.1 (from -r requirements.txt (line 24))\n",
            "  Downloading geopandas-1.0.1-py3-none-any.whl.metadata (2.2 kB)\n",
            "Collecting google-api-core==2.24.2 (from -r requirements.txt (line 25))\n",
            "  Downloading google_api_core-2.24.2-py3-none-any.whl.metadata (3.0 kB)\n",
            "Collecting google-api-python-client==2.163.0 (from -r requirements.txt (line 26))\n",
            "  Downloading google_api_python_client-2.163.0-py2.py3-none-any.whl.metadata (6.7 kB)\n",
            "Requirement already satisfied: google-auth==2.38.0 in /usr/local/lib/python3.12/dist-packages (from -r requirements.txt (line 27)) (2.38.0)\n",
            "Requirement already satisfied: google-auth-httplib2==0.2.0 in /usr/local/lib/python3.12/dist-packages (from -r requirements.txt (line 28)) (0.2.0)\n",
            "Collecting google-auth-oauthlib==1.2.1 (from -r requirements.txt (line 29))\n",
            "  Downloading google_auth_oauthlib-1.2.1-py2.py3-none-any.whl.metadata (2.7 kB)\n",
            "Requirement already satisfied: google-cloud-core==2.4.3 in /usr/local/lib/python3.12/dist-packages (from -r requirements.txt (line 30)) (2.4.3)\n",
            "Requirement already satisfied: google-cloud-storage in /usr/local/lib/python3.12/dist-packages (from -r requirements.txt (line 31)) (2.19.0)\n",
            "Collecting google-crc32c==1.6.0 (from -r requirements.txt (line 32))\n",
            "  Downloading google_crc32c-1.6.0-cp312-cp312-manylinux_2_17_x86_64.manylinux2014_x86_64.whl.metadata (2.3 kB)\n",
            "Requirement already satisfied: google-resumable-media==2.7.2 in /usr/local/lib/python3.12/dist-packages (from -r requirements.txt (line 33)) (2.7.2)\n",
            "Collecting googleapis-common-protos==1.69.1 (from -r requirements.txt (line 34))\n",
            "  Downloading googleapis_common_protos-1.69.1-py2.py3-none-any.whl.metadata (9.3 kB)\n",
            "Collecting haversine==2.9.0 (from -r requirements.txt (line 35))\n",
            "  Downloading haversine-2.9.0-py2.py3-none-any.whl.metadata (5.8 kB)\n",
            "Collecting httplib2==0.22.0 (from -r requirements.txt (line 36))\n",
            "  Downloading httplib2-0.22.0-py3-none-any.whl.metadata (2.6 kB)\n",
            "Requirement already satisfied: idna==3.10 in /usr/local/lib/python3.12/dist-packages (from -r requirements.txt (line 37)) (3.10)\n",
            "Requirement already satisfied: ipykernel in /usr/local/lib/python3.12/dist-packages (from -r requirements.txt (line 38)) (6.17.1)\n",
            "Requirement already satisfied: ipython in /usr/local/lib/python3.12/dist-packages (from -r requirements.txt (line 39)) (7.34.0)\n",
            "Collecting ipywidgets==8.1.7 (from -r requirements.txt (line 40))\n",
            "  Downloading ipywidgets-8.1.7-py3-none-any.whl.metadata (2.4 kB)\n",
            "Collecting jedi==0.19.2 (from -r requirements.txt (line 41))\n",
            "  Downloading jedi-0.19.2-py2.py3-none-any.whl.metadata (22 kB)\n",
            "Requirement already satisfied: Jinja2==3.1.6 in /usr/local/lib/python3.12/dist-packages (from -r requirements.txt (line 42)) (3.1.6)\n",
            "Collecting joblib==1.4.2 (from -r requirements.txt (line 43))\n",
            "  Downloading joblib-1.4.2-py3-none-any.whl.metadata (5.4 kB)\n",
            "Requirement already satisfied: jupyter_client in /usr/local/lib/python3.12/dist-packages (from -r requirements.txt (line 44)) (7.4.9)\n",
            "Collecting jupyter_core==5.7.2 (from -r requirements.txt (line 45))\n",
            "  Downloading jupyter_core-5.7.2-py3-none-any.whl.metadata (3.4 kB)\n",
            "Requirement already satisfied: jupyterlab_widgets==3.0.15 in /usr/local/lib/python3.12/dist-packages (from -r requirements.txt (line 46)) (3.0.15)\n",
            "Collecting kiwisolver==1.4.8 (from -r requirements.txt (line 47))\n",
            "  Downloading kiwisolver-1.4.8-cp312-cp312-manylinux_2_17_x86_64.manylinux2014_x86_64.whl.metadata (6.2 kB)\n",
            "Requirement already satisfied: MarkupSafe==3.0.2 in /usr/local/lib/python3.12/dist-packages (from -r requirements.txt (line 48)) (3.0.2)\n",
            "Collecting matplotlib==3.10.1 (from -r requirements.txt (line 49))\n",
            "  Downloading matplotlib-3.10.1-cp312-cp312-manylinux_2_17_x86_64.manylinux2014_x86_64.whl.metadata (11 kB)\n",
            "Requirement already satisfied: matplotlib-inline==0.1.7 in /usr/local/lib/python3.12/dist-packages (from -r requirements.txt (line 50)) (0.1.7)\n",
            "Collecting matplotlib-scalebar==0.9.0 (from -r requirements.txt (line 51))\n",
            "  Downloading matplotlib_scalebar-0.9.0-py3-none-any.whl.metadata (18 kB)\n",
            "Requirement already satisfied: nest-asyncio==1.6.0 in /usr/local/lib/python3.12/dist-packages (from -r requirements.txt (line 52)) (1.6.0)\n",
            "Collecting netCDF4==1.7.2 (from -r requirements.txt (line 53))\n",
            "  Downloading netCDF4-1.7.2-cp312-cp312-manylinux_2_17_x86_64.manylinux2014_x86_64.whl.metadata (1.8 kB)\n",
            "Collecting networkx==3.4.2 (from -r requirements.txt (line 54))\n",
            "  Downloading networkx-3.4.2-py3-none-any.whl.metadata (6.3 kB)\n",
            "Requirement already satisfied: numpy in /usr/local/lib/python3.12/dist-packages (from -r requirements.txt (line 55)) (2.0.2)\n",
            "Collecting oauthlib==3.2.2 (from -r requirements.txt (line 56))\n",
            "  Downloading oauthlib-3.2.2-py3-none-any.whl.metadata (7.5 kB)\n",
            "Collecting packaging==24.2 (from -r requirements.txt (line 57))\n",
            "  Downloading packaging-24.2-py3-none-any.whl.metadata (3.2 kB)\n",
            "Requirement already satisfied: pandas in /usr/local/lib/python3.12/dist-packages (from -r requirements.txt (line 58)) (2.2.2)\n",
            "Collecting parso==0.8.4 (from -r requirements.txt (line 59))\n",
            "  Downloading parso-0.8.4-py2.py3-none-any.whl.metadata (7.7 kB)\n",
            "Requirement already satisfied: patsy==1.0.1 in /usr/local/lib/python3.12/dist-packages (from -r requirements.txt (line 60)) (1.0.1)\n",
            "Collecting pillow==11.1.0 (from -r requirements.txt (line 61))\n",
            "  Downloading pillow-11.1.0-cp312-cp312-manylinux_2_28_x86_64.whl.metadata (9.1 kB)\n",
            "Collecting platformdirs==4.3.6 (from -r requirements.txt (line 62))\n",
            "  Downloading platformdirs-4.3.6-py3-none-any.whl.metadata (11 kB)\n",
            "Requirement already satisfied: prompt_toolkit in /usr/local/lib/python3.12/dist-packages (from -r requirements.txt (line 63)) (3.0.52)\n",
            "Requirement already satisfied: proto-plus==1.26.1 in /usr/local/lib/python3.12/dist-packages (from -r requirements.txt (line 64)) (1.26.1)\n",
            "Collecting protobuf==5.29.3 (from -r requirements.txt (line 65))\n",
            "  Downloading protobuf-5.29.3-cp38-abi3-manylinux2014_x86_64.whl.metadata (592 bytes)\n",
            "Collecting psutil==7.0.0 (from -r requirements.txt (line 66))\n",
            "  Downloading psutil-7.0.0-cp36-abi3-manylinux_2_12_x86_64.manylinux2010_x86_64.manylinux_2_17_x86_64.manylinux2014_x86_64.whl.metadata (22 kB)\n",
            "Collecting pure_eval==0.2.3 (from -r requirements.txt (line 67))\n",
            "  Downloading pure_eval-0.2.3-py3-none-any.whl.metadata (6.3 kB)\n",
            "Requirement already satisfied: pyasn1==0.6.1 in /usr/local/lib/python3.12/dist-packages (from -r requirements.txt (line 68)) (0.6.1)\n",
            "Collecting pyasn1_modules==0.4.1 (from -r requirements.txt (line 69))\n",
            "  Downloading pyasn1_modules-0.4.1-py3-none-any.whl.metadata (3.5 kB)\n",
            "Collecting pycountry==24.6.1 (from -r requirements.txt (line 70))\n",
            "  Downloading pycountry-24.6.1-py3-none-any.whl.metadata (12 kB)\n",
            "Collecting Pygments==2.19.1 (from -r requirements.txt (line 71))\n",
            "  Downloading pygments-2.19.1-py3-none-any.whl.metadata (2.5 kB)\n",
            "Collecting pyogrio==0.10.0 (from -r requirements.txt (line 72))\n",
            "  Downloading pyogrio-0.10.0-cp312-cp312-manylinux_2_28_x86_64.whl.metadata (5.5 kB)\n",
            "Collecting pyparsing==3.2.1 (from -r requirements.txt (line 73))\n",
            "  Downloading pyparsing-3.2.1-py3-none-any.whl.metadata (5.0 kB)\n",
            "Collecting pyproj==3.7.1 (from -r requirements.txt (line 74))\n",
            "  Downloading pyproj-3.7.1-cp312-cp312-manylinux_2_17_x86_64.manylinux2014_x86_64.whl.metadata (31 kB)\n",
            "Requirement already satisfied: pyshp==2.3.1 in /usr/local/lib/python3.12/dist-packages (from -r requirements.txt (line 75)) (2.3.1)\n",
            "Requirement already satisfied: python-dateutil==2.9.0.post0 in /usr/local/lib/python3.12/dist-packages (from -r requirements.txt (line 76)) (2.9.0.post0)\n",
            "Collecting pytz==2025.1 (from -r requirements.txt (line 77))\n",
            "  Downloading pytz-2025.1-py2.py3-none-any.whl.metadata (22 kB)\n",
            "Requirement already satisfied: pyzmq in /usr/local/lib/python3.12/dist-packages (from -r requirements.txt (line 78)) (26.2.1)\n",
            "Requirement already satisfied: requests in /usr/local/lib/python3.12/dist-packages (from -r requirements.txt (line 79)) (2.32.4)\n",
            "Requirement already satisfied: requests-oauthlib==2.0.0 in /usr/local/lib/python3.12/dist-packages (from -r requirements.txt (line 80)) (2.0.0)\n",
            "Collecting rsa==4.9 (from -r requirements.txt (line 81))\n",
            "  Downloading rsa-4.9-py3-none-any.whl.metadata (4.2 kB)\n",
            "Requirement already satisfied: scikit-learn==1.6.1 in /usr/local/lib/python3.12/dist-packages (from -r requirements.txt (line 82)) (1.6.1)\n",
            "Collecting scipy==1.15.2 (from -r requirements.txt (line 83))\n",
            "  Downloading scipy-1.15.2-cp312-cp312-manylinux_2_17_x86_64.manylinux2014_x86_64.whl.metadata (61 kB)\n",
            "\u001b[2K     \u001b[90m━━━━━━━━━━━━━━━━━━━━━━━━━━━━━━━━━━━━━━━━\u001b[0m \u001b[32m62.0/62.0 kB\u001b[0m \u001b[31m5.4 MB/s\u001b[0m eta \u001b[36m0:00:00\u001b[0m\n",
            "\u001b[?25hRequirement already satisfied: seaborn==0.13.2 in /usr/local/lib/python3.12/dist-packages (from -r requirements.txt (line 84)) (0.13.2)\n",
            "Collecting shapely==2.0.7 (from -r requirements.txt (line 85))\n",
            "  Downloading shapely-2.0.7-cp312-cp312-manylinux_2_17_x86_64.manylinux2014_x86_64.whl.metadata (6.8 kB)\n",
            "Requirement already satisfied: six==1.17.0 in /usr/local/lib/python3.12/dist-packages (from -r requirements.txt (line 86)) (1.17.0)\n",
            "Collecting stack-data==0.6.3 (from -r requirements.txt (line 87))\n",
            "  Downloading stack_data-0.6.3-py3-none-any.whl.metadata (18 kB)\n",
            "Collecting statsmodels==0.14.4 (from -r requirements.txt (line 88))\n",
            "  Downloading statsmodels-0.14.4-cp312-cp312-manylinux_2_17_x86_64.manylinux2014_x86_64.whl.metadata (9.2 kB)\n",
            "Collecting threadpoolctl==3.5.0 (from -r requirements.txt (line 89))\n",
            "  Downloading threadpoolctl-3.5.0-py3-none-any.whl.metadata (13 kB)\n",
            "Requirement already satisfied: tornado in /usr/local/lib/python3.12/dist-packages (from -r requirements.txt (line 90)) (6.4.2)\n",
            "Requirement already satisfied: tqdm==4.67.1 in /usr/local/lib/python3.12/dist-packages (from -r requirements.txt (line 91)) (4.67.1)\n",
            "Collecting traitlets==5.14.3 (from -r requirements.txt (line 92))\n",
            "  Downloading traitlets-5.14.3-py3-none-any.whl.metadata (10 kB)\n",
            "Requirement already satisfied: typing_extensions in /usr/local/lib/python3.12/dist-packages (from -r requirements.txt (line 93)) (4.15.0)\n",
            "Collecting tzdata==2025.1 (from -r requirements.txt (line 94))\n",
            "  Downloading tzdata-2025.1-py2.py3-none-any.whl.metadata (1.4 kB)\n",
            "Collecting uritemplate==4.1.1 (from -r requirements.txt (line 95))\n",
            "  Downloading uritemplate-4.1.1-py2.py3-none-any.whl.metadata (2.9 kB)\n",
            "Collecting urllib3==2.3.0 (from -r requirements.txt (line 96))\n",
            "  Downloading urllib3-2.3.0-py3-none-any.whl.metadata (6.5 kB)\n",
            "Requirement already satisfied: wcwidth==0.2.13 in /usr/local/lib/python3.12/dist-packages (from -r requirements.txt (line 97)) (0.2.13)\n",
            "Collecting wget==3.2 (from -r requirements.txt (line 98))\n",
            "  Downloading wget-3.2.zip (10 kB)\n",
            "  Preparing metadata (setup.py) ... \u001b[?25l\u001b[?25hdone\n",
            "Collecting widgetsnbextension==4.0.14 (from -r requirements.txt (line 99))\n",
            "  Downloading widgetsnbextension-4.0.14-py3-none-any.whl.metadata (1.6 kB)\n",
            "Collecting xarray==2025.1.2 (from -r requirements.txt (line 100))\n",
            "  Downloading xarray-2025.1.2-py3-none-any.whl.metadata (11 kB)\n",
            "Collecting xyzservices==2025.1.0 (from -r requirements.txt (line 101))\n",
            "  Downloading xyzservices-2025.1.0-py3-none-any.whl.metadata (4.3 kB)\n",
            "Collecting zope.interface==7.2 (from -r requirements.txt (line 102))\n",
            "  Downloading zope.interface-7.2-cp312-cp312-manylinux_2_5_x86_64.manylinux1_x86_64.manylinux_2_17_x86_64.manylinux2014_x86_64.whl.metadata (44 kB)\n",
            "\u001b[2K     \u001b[90m━━━━━━━━━━━━━━━━━━━━━━━━━━━━━━━━━━━━━━━━\u001b[0m \u001b[32m44.4/44.4 kB\u001b[0m \u001b[31m3.1 MB/s\u001b[0m eta \u001b[36m0:00:00\u001b[0m\n",
            "\u001b[?25hCollecting rioxarray (from -r requirements.txt (line 103))\n",
            "  Downloading rioxarray-0.19.0-py3-none-any.whl.metadata (5.5 kB)\n",
            "Collecting argparse (from filter_stations==0.6.2->-r requirements.txt (line 21))\n",
            "  Downloading argparse-1.4.0-py2.py3-none-any.whl.metadata (2.8 kB)\n",
            "Requirement already satisfied: setuptools in /usr/local/lib/python3.12/dist-packages (from zope.interface==7.2->-r requirements.txt (line 102)) (75.2.0)\n",
            "Requirement already satisfied: pickleshare in /usr/local/lib/python3.12/dist-packages (from ipython->-r requirements.txt (line 39)) (0.7.5)\n",
            "Requirement already satisfied: backcall in /usr/local/lib/python3.12/dist-packages (from ipython->-r requirements.txt (line 39)) (0.2.0)\n",
            "Requirement already satisfied: pexpect>4.3 in /usr/local/lib/python3.12/dist-packages (from ipython->-r requirements.txt (line 39)) (4.9.0)\n",
            "Requirement already satisfied: entrypoints in /usr/local/lib/python3.12/dist-packages (from jupyter_client->-r requirements.txt (line 44)) (0.4)\n",
            "Collecting rasterio>=1.4.3 (from rioxarray->-r requirements.txt (line 103))\n",
            "  Downloading rasterio-1.4.3-cp312-cp312-manylinux_2_17_x86_64.manylinux2014_x86_64.whl.metadata (9.1 kB)\n",
            "Requirement already satisfied: ptyprocess>=0.5 in /usr/local/lib/python3.12/dist-packages (from pexpect>4.3->ipython->-r requirements.txt (line 39)) (0.7.0)\n",
            "Collecting affine (from rasterio>=1.4.3->rioxarray->-r requirements.txt (line 103))\n",
            "  Downloading affine-2.4.0-py3-none-any.whl.metadata (4.0 kB)\n",
            "Requirement already satisfied: attrs in /usr/local/lib/python3.12/dist-packages (from rasterio>=1.4.3->rioxarray->-r requirements.txt (line 103)) (25.3.0)\n",
            "Requirement already satisfied: click>=4.0 in /usr/local/lib/python3.12/dist-packages (from rasterio>=1.4.3->rioxarray->-r requirements.txt (line 103)) (8.2.1)\n",
            "Collecting cligj>=0.5 (from rasterio>=1.4.3->rioxarray->-r requirements.txt (line 103))\n",
            "  Downloading cligj-0.7.2-py3-none-any.whl.metadata (5.0 kB)\n",
            "Collecting click-plugins (from rasterio>=1.4.3->rioxarray->-r requirements.txt (line 103))\n",
            "  Downloading click_plugins-1.1.1.2-py2.py3-none-any.whl.metadata (6.5 kB)\n",
            "Downloading asttokens-3.0.0-py3-none-any.whl (26 kB)\n",
            "Downloading blessings-1.7-py3-none-any.whl (18 kB)\n",
            "Downloading Cartopy-0.24.1-cp312-cp312-manylinux_2_17_x86_64.manylinux2014_x86_64.whl (11.7 MB)\n",
            "\u001b[2K   \u001b[90m━━━━━━━━━━━━━━━━━━━━━━━━━━━━━━━━━━━━━━━━\u001b[0m \u001b[32m11.7/11.7 MB\u001b[0m \u001b[31m72.5 MB/s\u001b[0m eta \u001b[36m0:00:00\u001b[0m\n",
            "\u001b[?25hDownloading certifi-2025.1.31-py3-none-any.whl (166 kB)\n",
            "\u001b[2K   \u001b[90m━━━━━━━━━━━━━━━━━━━━━━━━━━━━━━━━━━━━━━━━\u001b[0m \u001b[32m166.4/166.4 kB\u001b[0m \u001b[31m13.6 MB/s\u001b[0m eta \u001b[36m0:00:00\u001b[0m\n",
            "\u001b[?25hDownloading cftime-1.6.4.post1-cp312-cp312-manylinux_2_17_x86_64.manylinux2014_x86_64.whl (1.4 MB)\n",
            "\u001b[2K   \u001b[90m━━━━━━━━━━━━━━━━━━━━━━━━━━━━━━━━━━━━━━━━\u001b[0m \u001b[32m1.4/1.4 MB\u001b[0m \u001b[31m58.8 MB/s\u001b[0m eta \u001b[36m0:00:00\u001b[0m\n",
            "\u001b[?25hDownloading charset_normalizer-3.4.1-cp312-cp312-manylinux_2_17_x86_64.manylinux2014_x86_64.whl (145 kB)\n",
            "\u001b[2K   \u001b[90m━━━━━━━━━━━━━━━━━━━━━━━━━━━━━━━━━━━━━━━━\u001b[0m \u001b[32m145.3/145.3 kB\u001b[0m \u001b[31m12.3 MB/s\u001b[0m eta \u001b[36m0:00:00\u001b[0m\n",
            "\u001b[?25hDownloading colorama-0.4.6-py2.py3-none-any.whl (25 kB)\n",
            "Downloading comm-0.2.2-py3-none-any.whl (7.2 kB)\n",
            "Downloading contourpy-1.3.1-cp312-cp312-manylinux_2_17_x86_64.manylinux2014_x86_64.whl (323 kB)\n",
            "\u001b[2K   \u001b[90m━━━━━━━━━━━━━━━━━━━━━━━━━━━━━━━━━━━━━━━━\u001b[0m \u001b[32m323.6/323.6 kB\u001b[0m \u001b[31m22.3 MB/s\u001b[0m eta \u001b[36m0:00:00\u001b[0m\n",
            "\u001b[?25hDownloading DateTime-5.5-py3-none-any.whl (52 kB)\n",
            "\u001b[2K   \u001b[90m━━━━━━━━━━━━━━━━━━━━━━━━━━━━━━━━━━━━━━━━\u001b[0m \u001b[32m52.6/52.6 kB\u001b[0m \u001b[31m4.4 MB/s\u001b[0m eta \u001b[36m0:00:00\u001b[0m\n",
            "\u001b[?25hDownloading debugpy-1.8.13-cp312-cp312-manylinux_2_5_x86_64.manylinux1_x86_64.manylinux_2_17_x86_64.manylinux2014_x86_64.whl (4.2 MB)\n",
            "\u001b[2K   \u001b[90m━━━━━━━━━━━━━━━━━━━━━━━━━━━━━━━━━━━━━━━━\u001b[0m \u001b[32m4.2/4.2 MB\u001b[0m \u001b[31m72.0 MB/s\u001b[0m eta \u001b[36m0:00:00\u001b[0m\n",
            "\u001b[?25hDownloading earthengine_api-1.5.6-py3-none-any.whl (459 kB)\n",
            "\u001b[2K   \u001b[90m━━━━━━━━━━━━━━━━━━━━━━━━━━━━━━━━━━━━━━━━\u001b[0m \u001b[32m459.6/459.6 kB\u001b[0m \u001b[31m30.2 MB/s\u001b[0m eta \u001b[36m0:00:00\u001b[0m\n",
            "\u001b[?25hDownloading exceptiongroup-1.2.2-py3-none-any.whl (16 kB)\n",
            "Downloading executing-2.2.0-py2.py3-none-any.whl (26 kB)\n",
            "Downloading faostat-1.1.2-py3-none-any.whl (9.8 kB)\n",
            "Downloading filter_stations-0.6.2-py3-none-any.whl (28.0 MB)\n",
            "\u001b[2K   \u001b[90m━━━━━━━━━━━━━━━━━━━━━━━━━━━━━━━━━━━━━━━━\u001b[0m \u001b[32m28.0/28.0 MB\u001b[0m \u001b[31m7.7 MB/s\u001b[0m eta \u001b[36m0:00:00\u001b[0m\n",
            "\u001b[?25hDownloading folium-0.19.5-py2.py3-none-any.whl (110 kB)\n",
            "\u001b[2K   \u001b[90m━━━━━━━━━━━━━━━━━━━━━━━━━━━━━━━━━━━━━━━━\u001b[0m \u001b[32m110.9/110.9 kB\u001b[0m \u001b[31m7.8 MB/s\u001b[0m eta \u001b[36m0:00:00\u001b[0m\n",
            "\u001b[?25hDownloading fonttools-4.56.0-cp312-cp312-manylinux_2_5_x86_64.manylinux1_x86_64.manylinux_2_17_x86_64.manylinux2014_x86_64.whl (4.9 MB)\n",
            "\u001b[2K   \u001b[90m━━━━━━━━━━━━━━━━━━━━━━━━━━━━━━━━━━━━━━━━\u001b[0m \u001b[32m4.9/4.9 MB\u001b[0m \u001b[31m92.5 MB/s\u001b[0m eta \u001b[36m0:00:00\u001b[0m\n",
            "\u001b[?25hDownloading geopandas-1.0.1-py3-none-any.whl (323 kB)\n",
            "\u001b[2K   \u001b[90m━━━━━━━━━━━━━━━━━━━━━━━━━━━━━━━━━━━━━━━━\u001b[0m \u001b[32m323.6/323.6 kB\u001b[0m \u001b[31m25.7 MB/s\u001b[0m eta \u001b[36m0:00:00\u001b[0m\n",
            "\u001b[?25hDownloading google_api_core-2.24.2-py3-none-any.whl (160 kB)\n",
            "\u001b[2K   \u001b[90m━━━━━━━━━━━━━━━━━━━━━━━━━━━━━━━━━━━━━━━━\u001b[0m \u001b[32m160.1/160.1 kB\u001b[0m \u001b[31m13.5 MB/s\u001b[0m eta \u001b[36m0:00:00\u001b[0m\n",
            "\u001b[?25hDownloading google_api_python_client-2.163.0-py2.py3-none-any.whl (13.1 MB)\n",
            "\u001b[2K   \u001b[90m━━━━━━━━━━━━━━━━━━━━━━━━━━━━━━━━━━━━━━━━\u001b[0m \u001b[32m13.1/13.1 MB\u001b[0m \u001b[31m106.3 MB/s\u001b[0m eta \u001b[36m0:00:00\u001b[0m\n",
            "\u001b[?25hDownloading google_auth_oauthlib-1.2.1-py2.py3-none-any.whl (24 kB)\n",
            "Downloading google_crc32c-1.6.0-cp312-cp312-manylinux_2_17_x86_64.manylinux2014_x86_64.whl (32 kB)\n",
            "Downloading googleapis_common_protos-1.69.1-py2.py3-none-any.whl (293 kB)\n",
            "\u001b[2K   \u001b[90m━━━━━━━━━━━━━━━━━━━━━━━━━━━━━━━━━━━━━━━━\u001b[0m \u001b[32m293.2/293.2 kB\u001b[0m \u001b[31m23.2 MB/s\u001b[0m eta \u001b[36m0:00:00\u001b[0m\n",
            "\u001b[?25hDownloading haversine-2.9.0-py2.py3-none-any.whl (7.7 kB)\n",
            "Downloading httplib2-0.22.0-py3-none-any.whl (96 kB)\n",
            "\u001b[2K   \u001b[90m━━━━━━━━━━━━━━━━━━━━━━━━━━━━━━━━━━━━━━━━\u001b[0m \u001b[32m96.9/96.9 kB\u001b[0m \u001b[31m8.5 MB/s\u001b[0m eta \u001b[36m0:00:00\u001b[0m\n",
            "\u001b[?25hDownloading ipywidgets-8.1.7-py3-none-any.whl (139 kB)\n",
            "\u001b[2K   \u001b[90m━━━━━━━━━━━━━━━━━━━━━━━━━━━━━━━━━━━━━━━━\u001b[0m \u001b[32m139.8/139.8 kB\u001b[0m \u001b[31m11.7 MB/s\u001b[0m eta \u001b[36m0:00:00\u001b[0m\n",
            "\u001b[?25hDownloading jedi-0.19.2-py2.py3-none-any.whl (1.6 MB)\n",
            "\u001b[2K   \u001b[90m━━━━━━━━━━━━━━━━━━━━━━━━━━━━━━━━━━━━━━━━\u001b[0m \u001b[32m1.6/1.6 MB\u001b[0m \u001b[31m72.1 MB/s\u001b[0m eta \u001b[36m0:00:00\u001b[0m\n",
            "\u001b[?25hDownloading joblib-1.4.2-py3-none-any.whl (301 kB)\n",
            "\u001b[2K   \u001b[90m━━━━━━━━━━━━━━━━━━━━━━━━━━━━━━━━━━━━━━━━\u001b[0m \u001b[32m301.8/301.8 kB\u001b[0m \u001b[31m23.5 MB/s\u001b[0m eta \u001b[36m0:00:00\u001b[0m\n",
            "\u001b[?25hDownloading jupyter_core-5.7.2-py3-none-any.whl (28 kB)\n",
            "Downloading kiwisolver-1.4.8-cp312-cp312-manylinux_2_17_x86_64.manylinux2014_x86_64.whl (1.5 MB)\n",
            "\u001b[2K   \u001b[90m━━━━━━━━━━━━━━━━━━━━━━━━━━━━━━━━━━━━━━━━\u001b[0m \u001b[32m1.5/1.5 MB\u001b[0m \u001b[31m70.9 MB/s\u001b[0m eta \u001b[36m0:00:00\u001b[0m\n",
            "\u001b[?25hDownloading matplotlib-3.10.1-cp312-cp312-manylinux_2_17_x86_64.manylinux2014_x86_64.whl (8.6 MB)\n",
            "\u001b[2K   \u001b[90m━━━━━━━━━━━━━━━━━━━━━━━━━━━━━━━━━━━━━━━━\u001b[0m \u001b[32m8.6/8.6 MB\u001b[0m \u001b[31m105.2 MB/s\u001b[0m eta \u001b[36m0:00:00\u001b[0m\n",
            "\u001b[?25hDownloading matplotlib_scalebar-0.9.0-py3-none-any.whl (16 kB)\n",
            "Downloading netCDF4-1.7.2-cp312-cp312-manylinux_2_17_x86_64.manylinux2014_x86_64.whl (9.3 MB)\n",
            "\u001b[2K   \u001b[90m━━━━━━━━━━━━━━━━━━━━━━━━━━━━━━━━━━━━━━━━\u001b[0m \u001b[32m9.3/9.3 MB\u001b[0m \u001b[31m111.6 MB/s\u001b[0m eta \u001b[36m0:00:00\u001b[0m\n",
            "\u001b[?25hDownloading networkx-3.4.2-py3-none-any.whl (1.7 MB)\n",
            "\u001b[2K   \u001b[90m━━━━━━━━━━━━━━━━━━━━━━━━━━━━━━━━━━━━━━━━\u001b[0m \u001b[32m1.7/1.7 MB\u001b[0m \u001b[31m69.7 MB/s\u001b[0m eta \u001b[36m0:00:00\u001b[0m\n",
            "\u001b[?25hDownloading oauthlib-3.2.2-py3-none-any.whl (151 kB)\n",
            "\u001b[2K   \u001b[90m━━━━━━━━━━━━━━━━━━━━━━━━━━━━━━━━━━━━━━━━\u001b[0m \u001b[32m151.7/151.7 kB\u001b[0m \u001b[31m12.5 MB/s\u001b[0m eta \u001b[36m0:00:00\u001b[0m\n",
            "\u001b[?25hDownloading packaging-24.2-py3-none-any.whl (65 kB)\n",
            "\u001b[2K   \u001b[90m━━━━━━━━━━━━━━━━━━━━━━━━━━━━━━━━━━━━━━━━\u001b[0m \u001b[32m65.5/65.5 kB\u001b[0m \u001b[31m5.6 MB/s\u001b[0m eta \u001b[36m0:00:00\u001b[0m\n",
            "\u001b[?25hDownloading parso-0.8.4-py2.py3-none-any.whl (103 kB)\n",
            "\u001b[2K   \u001b[90m━━━━━━━━━━━━━━━━━━━━━━━━━━━━━━━━━━━━━━━━\u001b[0m \u001b[32m103.7/103.7 kB\u001b[0m \u001b[31m9.1 MB/s\u001b[0m eta \u001b[36m0:00:00\u001b[0m\n",
            "\u001b[?25hDownloading pillow-11.1.0-cp312-cp312-manylinux_2_28_x86_64.whl (4.5 MB)\n",
            "\u001b[2K   \u001b[90m━━━━━━━━━━━━━━━━━━━━━━━━━━━━━━━━━━━━━━━━\u001b[0m \u001b[32m4.5/4.5 MB\u001b[0m \u001b[31m81.1 MB/s\u001b[0m eta \u001b[36m0:00:00\u001b[0m\n",
            "\u001b[?25hDownloading platformdirs-4.3.6-py3-none-any.whl (18 kB)\n",
            "Downloading protobuf-5.29.3-cp38-abi3-manylinux2014_x86_64.whl (319 kB)\n",
            "\u001b[2K   \u001b[90m━━━━━━━━━━━━━━━━━━━━━━━━━━━━━━━━━━━━━━━━\u001b[0m \u001b[32m319.7/319.7 kB\u001b[0m \u001b[31m25.5 MB/s\u001b[0m eta \u001b[36m0:00:00\u001b[0m\n",
            "\u001b[?25hDownloading psutil-7.0.0-cp36-abi3-manylinux_2_12_x86_64.manylinux2010_x86_64.manylinux_2_17_x86_64.manylinux2014_x86_64.whl (277 kB)\n",
            "\u001b[2K   \u001b[90m━━━━━━━━━━━━━━━━━━━━━━━━━━━━━━━━━━━━━━━━\u001b[0m \u001b[32m278.0/278.0 kB\u001b[0m \u001b[31m20.3 MB/s\u001b[0m eta \u001b[36m0:00:00\u001b[0m\n",
            "\u001b[?25hDownloading pure_eval-0.2.3-py3-none-any.whl (11 kB)\n",
            "Downloading pyasn1_modules-0.4.1-py3-none-any.whl (181 kB)\n",
            "\u001b[2K   \u001b[90m━━━━━━━━━━━━━━━━━━━━━━━━━━━━━━━━━━━━━━━━\u001b[0m \u001b[32m181.5/181.5 kB\u001b[0m \u001b[31m15.7 MB/s\u001b[0m eta \u001b[36m0:00:00\u001b[0m\n",
            "\u001b[?25hDownloading pycountry-24.6.1-py3-none-any.whl (6.3 MB)\n",
            "\u001b[2K   \u001b[90m━━━━━━━━━━━━━━━━━━━━━━━━━━━━━━━━━━━━━━━━\u001b[0m \u001b[32m6.3/6.3 MB\u001b[0m \u001b[31m16.5 MB/s\u001b[0m eta \u001b[36m0:00:00\u001b[0m\n",
            "\u001b[?25hDownloading pygments-2.19.1-py3-none-any.whl (1.2 MB)\n",
            "\u001b[2K   \u001b[90m━━━━━━━━━━━━━━━━━━━━━━━━━━━━━━━━━━━━━━━━\u001b[0m \u001b[32m1.2/1.2 MB\u001b[0m \u001b[31m58.7 MB/s\u001b[0m eta \u001b[36m0:00:00\u001b[0m\n",
            "\u001b[?25hDownloading pyogrio-0.10.0-cp312-cp312-manylinux_2_28_x86_64.whl (24.0 MB)\n",
            "\u001b[2K   \u001b[90m━━━━━━━━━━━━━━━━━━━━━━━━━━━━━━━━━━━━━━━━\u001b[0m \u001b[32m24.0/24.0 MB\u001b[0m \u001b[31m86.6 MB/s\u001b[0m eta \u001b[36m0:00:00\u001b[0m\n",
            "\u001b[?25hDownloading pyparsing-3.2.1-py3-none-any.whl (107 kB)\n",
            "\u001b[2K   \u001b[90m━━━━━━━━━━━━━━━━━━━━━━━━━━━━━━━━━━━━━━━━\u001b[0m \u001b[32m107.7/107.7 kB\u001b[0m \u001b[31m9.5 MB/s\u001b[0m eta \u001b[36m0:00:00\u001b[0m\n",
            "\u001b[?25hDownloading pyproj-3.7.1-cp312-cp312-manylinux_2_17_x86_64.manylinux2014_x86_64.whl (9.6 MB)\n",
            "\u001b[2K   \u001b[90m━━━━━━━━━━━━━━━━━━━━━━━━━━━━━━━━━━━━━━━━\u001b[0m \u001b[32m9.6/9.6 MB\u001b[0m \u001b[31m113.3 MB/s\u001b[0m eta \u001b[36m0:00:00\u001b[0m\n",
            "\u001b[?25hDownloading pytz-2025.1-py2.py3-none-any.whl (507 kB)\n",
            "\u001b[2K   \u001b[90m━━━━━━━━━━━━━━━━━━━━━━━━━━━━━━━━━━━━━━━━\u001b[0m \u001b[32m507.9/507.9 kB\u001b[0m \u001b[31m33.9 MB/s\u001b[0m eta \u001b[36m0:00:00\u001b[0m\n",
            "\u001b[?25hDownloading rsa-4.9-py3-none-any.whl (34 kB)\n",
            "Downloading scipy-1.15.2-cp312-cp312-manylinux_2_17_x86_64.manylinux2014_x86_64.whl (37.3 MB)\n",
            "\u001b[2K   \u001b[90m━━━━━━━━━━━━━━━━━━━━━━━━━━━━━━━━━━━━━━━━\u001b[0m \u001b[32m37.3/37.3 MB\u001b[0m \u001b[31m12.6 MB/s\u001b[0m eta \u001b[36m0:00:00\u001b[0m\n",
            "\u001b[?25hDownloading shapely-2.0.7-cp312-cp312-manylinux_2_17_x86_64.manylinux2014_x86_64.whl (2.5 MB)\n",
            "\u001b[2K   \u001b[90m━━━━━━━━━━━━━━━━━━━━━━━━━━━━━━━━━━━━━━━━\u001b[0m \u001b[32m2.5/2.5 MB\u001b[0m \u001b[31m92.0 MB/s\u001b[0m eta \u001b[36m0:00:00\u001b[0m\n",
            "\u001b[?25hDownloading stack_data-0.6.3-py3-none-any.whl (24 kB)\n",
            "Downloading statsmodels-0.14.4-cp312-cp312-manylinux_2_17_x86_64.manylinux2014_x86_64.whl (10.7 MB)\n",
            "\u001b[2K   \u001b[90m━━━━━━━━━━━━━━━━━━━━━━━━━━━━━━━━━━━━━━━━\u001b[0m \u001b[32m10.7/10.7 MB\u001b[0m \u001b[31m113.7 MB/s\u001b[0m eta \u001b[36m0:00:00\u001b[0m\n",
            "\u001b[?25hDownloading threadpoolctl-3.5.0-py3-none-any.whl (18 kB)\n",
            "Downloading traitlets-5.14.3-py3-none-any.whl (85 kB)\n",
            "\u001b[2K   \u001b[90m━━━━━━━━━━━━━━━━━━━━━━━━━━━━━━━━━━━━━━━━\u001b[0m \u001b[32m85.4/85.4 kB\u001b[0m \u001b[31m7.7 MB/s\u001b[0m eta \u001b[36m0:00:00\u001b[0m\n",
            "\u001b[?25hDownloading tzdata-2025.1-py2.py3-none-any.whl (346 kB)\n",
            "\u001b[2K   \u001b[90m━━━━━━━━━━━━━━━━━━━━━━━━━━━━━━━━━━━━━━━━\u001b[0m \u001b[32m346.8/346.8 kB\u001b[0m \u001b[31m28.1 MB/s\u001b[0m eta \u001b[36m0:00:00\u001b[0m\n",
            "\u001b[?25hDownloading uritemplate-4.1.1-py2.py3-none-any.whl (10 kB)\n",
            "Downloading urllib3-2.3.0-py3-none-any.whl (128 kB)\n",
            "\u001b[2K   \u001b[90m━━━━━━━━━━━━━━━━━━━━━━━━━━━━━━━━━━━━━━━━\u001b[0m \u001b[32m128.4/128.4 kB\u001b[0m \u001b[31m12.0 MB/s\u001b[0m eta \u001b[36m0:00:00\u001b[0m\n",
            "\u001b[?25hDownloading widgetsnbextension-4.0.14-py3-none-any.whl (2.2 MB)\n",
            "\u001b[2K   \u001b[90m━━━━━━━━━━━━━━━━━━━━━━━━━━━━━━━━━━━━━━━━\u001b[0m \u001b[32m2.2/2.2 MB\u001b[0m \u001b[31m84.3 MB/s\u001b[0m eta \u001b[36m0:00:00\u001b[0m\n",
            "\u001b[?25hDownloading xarray-2025.1.2-py3-none-any.whl (1.2 MB)\n",
            "\u001b[2K   \u001b[90m━━━━━━━━━━━━━━━━━━━━━━━━━━━━━━━━━━━━━━━━\u001b[0m \u001b[32m1.2/1.2 MB\u001b[0m \u001b[31m56.5 MB/s\u001b[0m eta \u001b[36m0:00:00\u001b[0m\n",
            "\u001b[?25hDownloading xyzservices-2025.1.0-py3-none-any.whl (88 kB)\n",
            "\u001b[2K   \u001b[90m━━━━━━━━━━━━━━━━━━━━━━━━━━━━━━━━━━━━━━━━\u001b[0m \u001b[32m88.4/88.4 kB\u001b[0m \u001b[31m7.9 MB/s\u001b[0m eta \u001b[36m0:00:00\u001b[0m\n",
            "\u001b[?25hDownloading zope.interface-7.2-cp312-cp312-manylinux_2_5_x86_64.manylinux1_x86_64.manylinux_2_17_x86_64.manylinux2014_x86_64.whl (264 kB)\n",
            "\u001b[2K   \u001b[90m━━━━━━━━━━━━━━━━━━━━━━━━━━━━━━━━━━━━━━━━\u001b[0m \u001b[32m264.7/264.7 kB\u001b[0m \u001b[31m21.8 MB/s\u001b[0m eta \u001b[36m0:00:00\u001b[0m\n",
            "\u001b[?25hDownloading rioxarray-0.19.0-py3-none-any.whl (62 kB)\n",
            "\u001b[2K   \u001b[90m━━━━━━━━━━━━━━━━━━━━━━━━━━━━━━━━━━━━━━━━\u001b[0m \u001b[32m62.2/62.2 kB\u001b[0m \u001b[31m5.6 MB/s\u001b[0m eta \u001b[36m0:00:00\u001b[0m\n",
            "\u001b[?25hDownloading rasterio-1.4.3-cp312-cp312-manylinux_2_17_x86_64.manylinux2014_x86_64.whl (22.3 MB)\n",
            "\u001b[2K   \u001b[90m━━━━━━━━━━━━━━━━━━━━━━━━━━━━━━━━━━━━━━━━\u001b[0m \u001b[32m22.3/22.3 MB\u001b[0m \u001b[31m62.2 MB/s\u001b[0m eta \u001b[36m0:00:00\u001b[0m\n",
            "\u001b[?25hDownloading argparse-1.4.0-py2.py3-none-any.whl (23 kB)\n",
            "Downloading cligj-0.7.2-py3-none-any.whl (7.1 kB)\n",
            "Downloading affine-2.4.0-py3-none-any.whl (15 kB)\n",
            "Downloading click_plugins-1.1.1.2-py2.py3-none-any.whl (11 kB)\n",
            "Building wheels for collected packages: ee, wget\n",
            "  Building wheel for ee (setup.py) ... \u001b[?25l\u001b[?25hdone\n",
            "  Created wheel for ee: filename=ee-0.2-py3-none-any.whl size=3655 sha256=7854be8e53d75ac8cd48f654137dbe314a6a6d9c59783de040f46d15a04421a4\n",
            "  Stored in directory: /root/.cache/pip/wheels/68/e5/fb/285c24eaa7ce9d3844e311635dea798b3c4c9ceb6c32cd1da4\n",
            "  Building wheel for wget (setup.py) ... \u001b[?25l\u001b[?25hdone\n",
            "  Created wheel for wget: filename=wget-3.2-py3-none-any.whl size=9655 sha256=fced754641f5ed94721981b9d39e7d2770621d179870f91a49128618093bfc26\n",
            "  Stored in directory: /root/.cache/pip/wheels/01/46/3b/e29ffbe4ebe614ff224bad40fc6a5773a67a163251585a13a9\n",
            "Successfully built ee wget\n",
            "Installing collected packages: wget, pytz, pure_eval, argparse, zope.interface, xyzservices, widgetsnbextension, urllib3, uritemplate, tzdata, traitlets, threadpoolctl, shapely, scipy, rsa, pyparsing, Pygments, pycountry, pyasn1_modules, psutil, protobuf, platformdirs, pillow, parso, packaging, oauthlib, networkx, kiwisolver, joblib, haversine, google-crc32c, fonttools, executing, exceptiongroup, debugpy, contourpy, colorama, cligj, click-plugins, charset-normalizer, cftime, certifi, blessings, asttokens, affine, stack-data, rasterio, pyproj, pyogrio, netCDF4, matplotlib, jupyter_core, jedi, httplib2, googleapis-common-protos, ee, DateTime, comm, xarray, statsmodels, matplotlib-scalebar, google-api-core, geopandas, folium, faostat, Cartopy, rioxarray, ipywidgets, google-auth-oauthlib, google-api-python-client, filter_stations, earthengine-api\n",
            "  Attempting uninstall: pytz\n",
            "    Found existing installation: pytz 2025.2\n",
            "    Uninstalling pytz-2025.2:\n",
            "      Successfully uninstalled pytz-2025.2\n",
            "  Attempting uninstall: xyzservices\n",
            "    Found existing installation: xyzservices 2025.4.0\n",
            "    Uninstalling xyzservices-2025.4.0:\n",
            "      Successfully uninstalled xyzservices-2025.4.0\n",
            "  Attempting uninstall: widgetsnbextension\n",
            "    Found existing installation: widgetsnbextension 3.6.10\n",
            "    Uninstalling widgetsnbextension-3.6.10:\n",
            "      Successfully uninstalled widgetsnbextension-3.6.10\n",
            "  Attempting uninstall: urllib3\n",
            "    Found existing installation: urllib3 2.5.0\n",
            "    Uninstalling urllib3-2.5.0:\n",
            "      Successfully uninstalled urllib3-2.5.0\n",
            "  Attempting uninstall: uritemplate\n",
            "    Found existing installation: uritemplate 4.2.0\n",
            "    Uninstalling uritemplate-4.2.0:\n",
            "      Successfully uninstalled uritemplate-4.2.0\n",
            "  Attempting uninstall: tzdata\n",
            "    Found existing installation: tzdata 2025.2\n",
            "    Uninstalling tzdata-2025.2:\n",
            "      Successfully uninstalled tzdata-2025.2\n",
            "  Attempting uninstall: traitlets\n",
            "    Found existing installation: traitlets 5.7.1\n",
            "    Uninstalling traitlets-5.7.1:\n",
            "      Successfully uninstalled traitlets-5.7.1\n",
            "  Attempting uninstall: threadpoolctl\n",
            "    Found existing installation: threadpoolctl 3.6.0\n",
            "    Uninstalling threadpoolctl-3.6.0:\n",
            "      Successfully uninstalled threadpoolctl-3.6.0\n",
            "  Attempting uninstall: shapely\n",
            "    Found existing installation: shapely 2.1.1\n",
            "    Uninstalling shapely-2.1.1:\n",
            "      Successfully uninstalled shapely-2.1.1\n",
            "  Attempting uninstall: scipy\n",
            "    Found existing installation: scipy 1.16.1\n",
            "    Uninstalling scipy-1.16.1:\n",
            "      Successfully uninstalled scipy-1.16.1\n",
            "  Attempting uninstall: rsa\n",
            "    Found existing installation: rsa 4.9.1\n",
            "    Uninstalling rsa-4.9.1:\n",
            "      Successfully uninstalled rsa-4.9.1\n",
            "  Attempting uninstall: pyparsing\n",
            "    Found existing installation: pyparsing 3.2.3\n",
            "    Uninstalling pyparsing-3.2.3:\n",
            "      Successfully uninstalled pyparsing-3.2.3\n",
            "  Attempting uninstall: Pygments\n",
            "    Found existing installation: Pygments 2.19.2\n",
            "    Uninstalling Pygments-2.19.2:\n",
            "      Successfully uninstalled Pygments-2.19.2\n",
            "  Attempting uninstall: pyasn1_modules\n",
            "    Found existing installation: pyasn1_modules 0.4.2\n",
            "    Uninstalling pyasn1_modules-0.4.2:\n",
            "      Successfully uninstalled pyasn1_modules-0.4.2\n",
            "  Attempting uninstall: psutil\n",
            "    Found existing installation: psutil 5.9.5\n",
            "    Uninstalling psutil-5.9.5:\n",
            "      Successfully uninstalled psutil-5.9.5\n",
            "  Attempting uninstall: protobuf\n",
            "    Found existing installation: protobuf 5.29.5\n",
            "    Uninstalling protobuf-5.29.5:\n",
            "      Successfully uninstalled protobuf-5.29.5\n",
            "  Attempting uninstall: platformdirs\n",
            "    Found existing installation: platformdirs 4.4.0\n",
            "    Uninstalling platformdirs-4.4.0:\n",
            "      Successfully uninstalled platformdirs-4.4.0\n",
            "  Attempting uninstall: pillow\n",
            "    Found existing installation: pillow 11.3.0\n",
            "    Uninstalling pillow-11.3.0:\n",
            "      Successfully uninstalled pillow-11.3.0\n",
            "  Attempting uninstall: parso\n",
            "    Found existing installation: parso 0.8.5\n",
            "    Uninstalling parso-0.8.5:\n",
            "      Successfully uninstalled parso-0.8.5\n",
            "  Attempting uninstall: packaging\n",
            "    Found existing installation: packaging 25.0\n",
            "    Uninstalling packaging-25.0:\n",
            "      Successfully uninstalled packaging-25.0\n",
            "  Attempting uninstall: oauthlib\n",
            "    Found existing installation: oauthlib 3.3.1\n",
            "    Uninstalling oauthlib-3.3.1:\n",
            "      Successfully uninstalled oauthlib-3.3.1\n",
            "  Attempting uninstall: networkx\n",
            "    Found existing installation: networkx 3.5\n",
            "    Uninstalling networkx-3.5:\n",
            "      Successfully uninstalled networkx-3.5\n",
            "  Attempting uninstall: kiwisolver\n",
            "    Found existing installation: kiwisolver 1.4.9\n",
            "    Uninstalling kiwisolver-1.4.9:\n",
            "      Successfully uninstalled kiwisolver-1.4.9\n",
            "  Attempting uninstall: joblib\n",
            "    Found existing installation: joblib 1.5.2\n",
            "    Uninstalling joblib-1.5.2:\n",
            "      Successfully uninstalled joblib-1.5.2\n",
            "  Attempting uninstall: google-crc32c\n",
            "    Found existing installation: google-crc32c 1.7.1\n",
            "    Uninstalling google-crc32c-1.7.1:\n",
            "      Successfully uninstalled google-crc32c-1.7.1\n",
            "  Attempting uninstall: fonttools\n",
            "    Found existing installation: fonttools 4.59.2\n",
            "    Uninstalling fonttools-4.59.2:\n",
            "      Successfully uninstalled fonttools-4.59.2\n",
            "  Attempting uninstall: debugpy\n",
            "    Found existing installation: debugpy 1.8.15\n",
            "    Uninstalling debugpy-1.8.15:\n",
            "      Successfully uninstalled debugpy-1.8.15\n",
            "  Attempting uninstall: contourpy\n",
            "    Found existing installation: contourpy 1.3.3\n",
            "    Uninstalling contourpy-1.3.3:\n",
            "      Successfully uninstalled contourpy-1.3.3\n",
            "  Attempting uninstall: charset-normalizer\n",
            "    Found existing installation: charset-normalizer 3.4.3\n",
            "    Uninstalling charset-normalizer-3.4.3:\n",
            "      Successfully uninstalled charset-normalizer-3.4.3\n",
            "  Attempting uninstall: certifi\n",
            "    Found existing installation: certifi 2025.8.3\n",
            "    Uninstalling certifi-2025.8.3:\n",
            "      Successfully uninstalled certifi-2025.8.3\n",
            "  Attempting uninstall: pyproj\n",
            "    Found existing installation: pyproj 3.7.2\n",
            "    Uninstalling pyproj-3.7.2:\n",
            "      Successfully uninstalled pyproj-3.7.2\n",
            "  Attempting uninstall: pyogrio\n",
            "    Found existing installation: pyogrio 0.11.1\n",
            "    Uninstalling pyogrio-0.11.1:\n",
            "      Successfully uninstalled pyogrio-0.11.1\n",
            "  Attempting uninstall: matplotlib\n",
            "    Found existing installation: matplotlib 3.10.0\n",
            "    Uninstalling matplotlib-3.10.0:\n",
            "      Successfully uninstalled matplotlib-3.10.0\n",
            "  Attempting uninstall: jupyter_core\n",
            "    Found existing installation: jupyter_core 5.8.1\n",
            "    Uninstalling jupyter_core-5.8.1:\n",
            "      Successfully uninstalled jupyter_core-5.8.1\n",
            "  Attempting uninstall: httplib2\n",
            "    Found existing installation: httplib2 0.30.0\n",
            "    Uninstalling httplib2-0.30.0:\n",
            "      Successfully uninstalled httplib2-0.30.0\n",
            "  Attempting uninstall: googleapis-common-protos\n",
            "    Found existing installation: googleapis-common-protos 1.70.0\n",
            "    Uninstalling googleapis-common-protos-1.70.0:\n",
            "      Successfully uninstalled googleapis-common-protos-1.70.0\n",
            "  Attempting uninstall: xarray\n",
            "    Found existing installation: xarray 2025.9.0\n",
            "    Uninstalling xarray-2025.9.0:\n",
            "      Successfully uninstalled xarray-2025.9.0\n",
            "  Attempting uninstall: statsmodels\n",
            "    Found existing installation: statsmodels 0.14.5\n",
            "    Uninstalling statsmodels-0.14.5:\n",
            "      Successfully uninstalled statsmodels-0.14.5\n",
            "  Attempting uninstall: google-api-core\n",
            "    Found existing installation: google-api-core 2.25.1\n",
            "    Uninstalling google-api-core-2.25.1:\n",
            "      Successfully uninstalled google-api-core-2.25.1\n",
            "  Attempting uninstall: geopandas\n",
            "    Found existing installation: geopandas 1.1.1\n",
            "    Uninstalling geopandas-1.1.1:\n",
            "      Successfully uninstalled geopandas-1.1.1\n",
            "  Attempting uninstall: folium\n",
            "    Found existing installation: folium 0.20.0\n",
            "    Uninstalling folium-0.20.0:\n",
            "      Successfully uninstalled folium-0.20.0\n",
            "  Attempting uninstall: ipywidgets\n",
            "    Found existing installation: ipywidgets 7.7.1\n",
            "    Uninstalling ipywidgets-7.7.1:\n",
            "      Successfully uninstalled ipywidgets-7.7.1\n",
            "  Attempting uninstall: google-auth-oauthlib\n",
            "    Found existing installation: google-auth-oauthlib 1.2.2\n",
            "    Uninstalling google-auth-oauthlib-1.2.2:\n",
            "      Successfully uninstalled google-auth-oauthlib-1.2.2\n",
            "  Attempting uninstall: google-api-python-client\n",
            "    Found existing installation: google-api-python-client 2.181.0\n",
            "    Uninstalling google-api-python-client-2.181.0:\n",
            "      Successfully uninstalled google-api-python-client-2.181.0\n",
            "  Attempting uninstall: earthengine-api\n",
            "    Found existing installation: earthengine-api 1.5.24\n",
            "    Uninstalling earthengine-api-1.5.24:\n",
            "      Successfully uninstalled earthengine-api-1.5.24\n",
            "Successfully installed Cartopy-0.24.1 DateTime-5.5 Pygments-2.19.1 affine-2.4.0 argparse-1.4.0 asttokens-3.0.0 blessings-1.7 certifi-2025.1.31 cftime-1.6.4.post1 charset-normalizer-3.4.1 click-plugins-1.1.1.2 cligj-0.7.2 colorama-0.4.6 comm-0.2.2 contourpy-1.3.1 debugpy-1.8.13 earthengine-api-1.5.6 ee-0.2 exceptiongroup-1.2.2 executing-2.2.0 faostat-1.1.2 filter_stations-0.6.2 folium-0.19.5 fonttools-4.56.0 geopandas-1.0.1 google-api-core-2.24.2 google-api-python-client-2.163.0 google-auth-oauthlib-1.2.1 google-crc32c-1.6.0 googleapis-common-protos-1.69.1 haversine-2.9.0 httplib2-0.22.0 ipywidgets-8.1.7 jedi-0.19.2 joblib-1.4.2 jupyter_core-5.7.2 kiwisolver-1.4.8 matplotlib-3.10.1 matplotlib-scalebar-0.9.0 netCDF4-1.7.2 networkx-3.4.2 oauthlib-3.2.2 packaging-24.2 parso-0.8.4 pillow-11.1.0 platformdirs-4.3.6 protobuf-5.29.3 psutil-7.0.0 pure_eval-0.2.3 pyasn1_modules-0.4.1 pycountry-24.6.1 pyogrio-0.10.0 pyparsing-3.2.1 pyproj-3.7.1 pytz-2025.1 rasterio-1.4.3 rioxarray-0.19.0 rsa-4.9 scipy-1.15.2 shapely-2.0.7 stack-data-0.6.3 statsmodels-0.14.4 threadpoolctl-3.5.0 traitlets-5.14.3 tzdata-2025.1 uritemplate-4.1.1 urllib3-2.3.0 wget-3.2 widgetsnbextension-4.0.14 xarray-2025.1.2 xyzservices-2025.1.0 zope.interface-7.2\n"
          ]
        }
      ],
      "source": [
        "!git clone https://github.com/kaburia/NOAA-workshop.git\n",
        "!cd NOAA-workshop && pip install -r requirements.txt"
      ]
    },
    {
      "cell_type": "code",
      "execution_count": 2,
      "id": "HXnAaHsG_cWI",
      "metadata": {
        "id": "HXnAaHsG_cWI"
      },
      "outputs": [],
      "source": [
        "import os\n",
        "os.chdir('NOAA-workshop')"
      ]
    },
    {
      "cell_type": "code",
      "execution_count": 10,
      "id": "egkXJvEE_zEK",
      "metadata": {
        "colab": {
          "base_uri": "https://localhost:8080/"
        },
        "id": "egkXJvEE_zEK",
        "outputId": "d2c9f774-93a3-4bd1-baa7-e71da32eb6ae"
      },
      "outputs": [
        {
          "name": "stdout",
          "output_type": "stream",
          "text": [
            "Mounted at /content/drive\n"
          ]
        }
      ],
      "source": [
        "from google.colab import drive\n",
        "drive.mount('/content/drive', force_remount=True)"
      ]
    },
    {
      "cell_type": "code",
      "execution_count": 5,
      "id": "245bea09",
      "metadata": {
        "id": "245bea09"
      },
      "outputs": [],
      "source": [
        "import cartopy.crs as ccrs\n",
        "import cartopy.feature as cfeature\n",
        "import matplotlib.pyplot as plt\n",
        "import pandas as pd\n",
        "import json\n",
        "import ee\n"
      ]
    },
    {
      "cell_type": "code",
      "execution_count": 2,
      "id": "6afdfe95",
      "metadata": {
        "colab": {
          "base_uri": "https://localhost:8080/"
        },
        "id": "6afdfe95",
        "outputId": "c9e1ec98-e7c4-4c23-d532-cabd29001916"
      },
      "outputs": [
        {
          "name": "stdout",
          "output_type": "stream",
          "text": [
            "Root dir: d:\\previous-pc\\Agent\\TAHMO\\workshops\n",
            "Curr dir: d:\\previous-pc\\Agent\\TAHMO\\workshops\\NOAA-workshop\n"
          ]
        }
      ],
      "source": [
        "from utils.GHCN_stations import subset_stations_in_bbox, get_nearest_wmo_station # GHCN station helper functions\n",
        "from utils.filter_stations import RetrieveData\n",
        "from utils.CBAM_helpers import CBAMClient, extract_cbam_data # CBAM helper functions\n"
      ]
    },
    {
      "cell_type": "code",
      "execution_count": null,
      "id": "ScMTe0M__o64",
      "metadata": {
        "id": "ScMTe0M__o64"
      },
      "outputs": [],
      "source": [
        "from google.colab import drive\n",
        "drive.mount('/content/drive')"
      ]
    },
    {
      "cell_type": "code",
      "execution_count": 6,
      "id": "be5eff1b",
      "metadata": {},
      "outputs": [
        {
          "name": "stderr",
          "output_type": "stream",
          "text": [
            "*** Earth Engine *** Share your feedback by taking our Annual Developer Satisfaction Survey: https://google.qualtrics.com/jfe/form/SV_7TDKVSyKvBdmMqW?ref=4i2o6\n"
          ]
        },
        {
          "name": "stdout",
          "output_type": "stream",
          "text": [
            "28.861754 -4.724299999999999 41.9068688 5.033420899999999\n"
          ]
        }
      ],
      "source": [
        "eac_region = [[28.861754, -2.8399383],\n",
        " [28.861754, -2.8399383],\n",
        " [28.861754, -1.0473752],\n",
        " [29.573433, -1.4823178],\n",
        " [29.573433, -1.4823178],\n",
        " [29.573433, 4.218628],\n",
        " [30.8991179, -2.8399383],\n",
        " [30.8991179, -1.0473752],\n",
        " [33.90982109999999, -4.724299999999999],\n",
        " [33.90982109999999, -4.724299999999999],\n",
        " [33.90982109999999, 5.033420899999999],\n",
        " [35.0330489, -1.4823178],\n",
        " [35.0330489, 4.218628],\n",
        " [41.9068688, -4.724299999999999],\n",
        " [41.9068688, 5.033420899999999]]\n",
        "\n",
        "start_date = \"2025-04-01\"\n",
        "end_date = \"2025-05-31\"\n",
        "\n",
        "ee.Authenticate()\n",
        "ee.Initialize(project='leafy-computing-310902')\n",
        "\n",
        "# get the xmin, xmax, ymin, ymax from eac region\n",
        "def xmin_ymin_xmax_ymax(polygon):\n",
        "    lons = [point[0] for point in polygon]\n",
        "    lats = [point[1] for point in polygon]\n",
        "    return min(lons), min(lats), max(lons), max(lats)\n",
        "xmin, ymin, xmax, ymax = xmin_ymin_xmax_ymax(eac_region)\n",
        "print(xmin, ymin, xmax, ymax)   "
      ]
    },
    {
      "cell_type": "markdown",
      "id": "470c711f",
      "metadata": {
        "id": "470c711f"
      },
      "source": [
        "We are going to examine the March 2025 heatwave\n"
      ]
    },
    {
      "cell_type": "code",
      "execution_count": null,
      "id": "i-siQbMg9wmZ",
      "metadata": {
        "id": "i-siQbMg9wmZ"
      },
      "outputs": [],
      "source": []
    },
    {
      "cell_type": "code",
      "execution_count": 14,
      "id": "33005568",
      "metadata": {
        "id": "33005568"
      },
      "outputs": [],
      "source": [
        "# Station comparison\n",
        "start_date = '2024-03-01'\n",
        "end_date = '2024-03-31'"
      ]
    },
    {
      "cell_type": "markdown",
      "id": "39c4dccb",
      "metadata": {
        "id": "39c4dccb"
      },
      "source": [
        "Extract the TAHMO temperature 5 minute data for 2024 and extrat the tmin, tavg and tmax"
      ]
    },
    {
      "cell_type": "code",
      "execution_count": 15,
      "id": "7213219a",
      "metadata": {
        "id": "7213219a"
      },
      "outputs": [],
      "source": [
        "# Load TAHMO EAC stations previously extracted\n",
        "eac_metadata = pd.read_csv(\"/content/drive/MyDrive/Datasets/ground/eac_stations.csv\")\n",
        "eac_metadata = eac_metadata[['code',\n",
        "                             'location.latitude',\n",
        "                             'location.longitude']].rename(columns={'location.latitude': 'lat',\n",
        "                                                                    'location.longitude': 'lon'})"
      ]
    },
    {
      "cell_type": "code",
      "execution_count": 26,
      "id": "1f66eb17",
      "metadata": {
        "colab": {
          "base_uri": "https://localhost:8080/",
          "height": 17,
          "referenced_widgets": [
            "af82639a3b0b4fabbc294108542f4efb",
            "5ddcdf5d282a4e05b0faab67e7b78de9",
            "84269fd581e54102be3375be7436173d",
            "9f7567cfd9b547b6aadf74ae56c759b9",
            "9956ffe0193d411e8ae2be6ed93577f0",
            "bf45eab828db4292a8287e8a577c380d",
            "ee2bebf6900243679e8e5914b86093c2",
            "c5c05fa01e2e4c9c80b7093626957710",
            "e954001024644efea52b350fa6743927",
            "f7512dbe63ba48b495f037d78dcd0d67",
            "c8fd962605f543ce94c05fefa02bfff0"
          ]
        },
        "id": "1f66eb17",
        "outputId": "429c654d-7175-4349-ff08-e66e181001c4"
      },
      "outputs": [
        {
          "data": {
            "application/vnd.jupyter.widget-view+json": {
              "model_id": "af82639a3b0b4fabbc294108542f4efb",
              "version_major": 2,
              "version_minor": 0
            },
            "text/plain": [
              "Retrieving data for stations:   0%|          | 0/260 [00:00<?, ?it/s]"
            ]
          },
          "metadata": {
            "application/vnd.jupyter.widget-view+json": {
              "colab": {
                "custom_widget_manager": {
                  "url": "https://ssl.gstatic.com/colaboratory-static/widgets/colab-cdn-widget-manager/2b70e893a8ba7c0f/manager.min.js"
                }
              }
            }
          },
          "output_type": "display_data"
        }
      ],
      "source": [
        "# Load the config file\n",
        "with open('/content/config (1).json', 'r') as f:\n",
        "    config = json.load(f)\n",
        "\n",
        "# Set the api key and secret\n",
        "api_key = config['apiKey']\n",
        "api_secret = config['apiSecret']\n",
        "\n",
        "\n",
        "# Initialize the class\n",
        "rd = RetrieveData(apiKey=api_key,\n",
        "                  apiSecret=api_secret)\n",
        "\n",
        "\n",
        "# Get the temperature data for the EAC stations in 5min intervals\n",
        "eac_temp = rd.multiple_measurements(stations_list=eac_metadata['code'].tolist(),\n",
        "                                     startDate=start_date,\n",
        "                                     endDate=end_date,\n",
        "                                     variables=['te'],\n",
        "                                     csv_file = \"/content/drive/Shareddrives/NOAA-workshop/Datasets/ground/eac_temp_march_2024\",\n",
        "                                     aggregate='5min'\n",
        "                                     )"
      ]
    },
    {
      "cell_type": "code",
      "execution_count": 25,
      "id": "c87d3b1e",
      "metadata": {
        "id": "c87d3b1e"
      },
      "outputs": [],
      "source": [
        "eac_temp"
      ]
    },
    {
      "cell_type": "code",
      "execution_count": 22,
      "id": "8pnjr-N8Cj8e",
      "metadata": {
        "id": "8pnjr-N8Cj8e"
      },
      "outputs": [],
      "source": [
        "from google.colab import output\n",
        "output.enable_custom_widget_manager()"
      ]
    },
    {
      "cell_type": "markdown",
      "id": "KEocvYP_Cj8f",
      "metadata": {
        "id": "KEocvYP_Cj8f"
      },
      "source": [
        "Support for third party widgets will remain active for the duration of the session. To disable support:"
      ]
    },
    {
      "cell_type": "code",
      "execution_count": 18,
      "id": "mO8SF0RXCj8f",
      "metadata": {
        "id": "mO8SF0RXCj8f"
      },
      "outputs": [],
      "source": [
        "from google.colab import output\n",
        "output.disable_custom_widget_manager()"
      ]
    },
    {
      "cell_type": "code",
      "execution_count": 27,
      "id": "10c0d00e",
      "metadata": {
        "id": "10c0d00e"
      },
      "outputs": [],
      "source": [
        "# Aggregate the values to get the min, mean and max for the day\n",
        "tahmo_eac_tmin = rd.aggregate_variables(\n",
        "    eac_temp,\n",
        "    freq='1D',\n",
        "    method='min'\n",
        ")\n",
        "tahmo_eac_tavg = rd.aggregate_variables(\n",
        "    eac_temp,\n",
        "    freq='1D',\n",
        "    method='mean'\n",
        ")\n",
        "tahmo_eac_tmax = rd.aggregate_variables(\n",
        "    eac_temp,\n",
        "    freq='1D',\n",
        "    method='max'\n",
        ")\n"
      ]
    },
    {
      "cell_type": "code",
      "execution_count": 28,
      "id": "df1169a6",
      "metadata": {
        "id": "df1169a6"
      },
      "outputs": [],
      "source": [
        "# Save the variables\n",
        "tahmo_eac_tmin.to_csv(\"/content/drive/Shareddrives/NOAA-workshop/Datasets/ground/eac_tmin_march_2024.csv\", index=True)\n",
        "tahmo_eac_tavg.to_csv(\"/content/drive/Shareddrives/NOAA-workshop/Datasets/ground/eac_tavg_march_2024.csv\", index=True)\n",
        "tahmo_eac_tmax.to_csv(\"/content/drive/Shareddrives/NOAA-workshop/Datasets/ground/eac_tmax_march_2024.csv\", index=True)"
      ]
    },
    {
      "cell_type": "code",
      "execution_count": 55,
      "id": "BZ3HJCUzLGXH",
      "metadata": {
        "colab": {
          "base_uri": "https://localhost:8080/",
          "height": 624
        },
        "id": "BZ3HJCUzLGXH",
        "outputId": "3ad471bb-7120-4a3c-c0b5-45cbdcf4ca73"
      },
      "outputs": [
        {
          "name": "stdout",
          "output_type": "stream",
          "text": [
            "Randomly selected station: TA00141\n"
          ]
        },
        {
          "data": {
            "image/png": "[encoded data removed]",
            "text/plain": [
              "<Figure size 1200x600 with 1 Axes>"
            ]
          },
          "metadata": {},
          "output_type": "display_data"
        }
      ],
      "source": [
        "import random\n",
        "\n",
        "def plot_temperatures(tmin_df, tavg_df, tmax_df, station_code=None):\n",
        "    \"\"\"\n",
        "    Plots the daily minimum, average, and maximum temperatures for a specified TAHMO station.\n",
        "\n",
        "    Args:\n",
        "        tmin_df (pd.DataFrame): DataFrame containing daily minimum temperatures.\n",
        "        tavg_df (pd.DataFrame): DataFrame containing daily average temperatures.\n",
        "        tmax_df (pd.DataFrame): DataFrame containing daily maximum temperatures.\n",
        "        station_code (str, optional): The code of the station to plot. If None, a random station from the DataFrame is plotted.\n",
        "    \"\"\"\n",
        "    if station_code is None:\n",
        "        station_code = random.choice(tmin_df.columns.tolist())\n",
        "        print(f\"Randomly selected station: {station_code}\")\n",
        "    elif station_code not in tmin_df.columns:\n",
        "        print(f\"Station code {station_code} not found in the data.\")\n",
        "        return\n",
        "\n",
        "    plt.figure(figsize=(12, 6))\n",
        "    plt.plot(tmin_df.index, tmin_df[station_code], label='Min Temp', marker='o', linestyle='-')\n",
        "    plt.plot(tavg_df.index, tavg_df[station_code], label='Avg Temp', marker='o', linestyle='-')\n",
        "    plt.plot(tmax_df.index, tmax_df[station_code], label='Max Temp', marker='o', linestyle='-')\n",
        "\n",
        "    plt.xlabel('Date')\n",
        "    plt.ylabel('Temperature (°C)')\n",
        "    plt.title(f'Daily Temperatures for Station {station_code}')\n",
        "    plt.legend()\n",
        "    plt.grid(True)\n",
        "    plt.xticks(rotation=45)\n",
        "    plt.tight_layout()\n",
        "    plt.show()\n",
        "\n",
        "# Example usage:\n",
        "plot_temperatures(tahmo_eac_tmin, tahmo_eac_tavg, tahmo_eac_tmax)"
      ]
    },
    {
      "cell_type": "markdown",
      "id": "7df20e07",
      "metadata": {
        "id": "7df20e07"
      },
      "source": [
        "### GHCNd stations\n",
        "- Available globally"
      ]
    },
    {
      "cell_type": "code",
      "execution_count": 56,
      "id": "0bdcaf02",
      "metadata": {
        "colab": {
          "base_uri": "https://localhost:8080/"
        },
        "id": "0bdcaf02",
        "outputId": "12a76db1-0436-4be1-a0c1-fea0fedc844c"
      },
      "outputs": [
        {
          "name": "stdout",
          "output_type": "stream",
          "text": [
            "Cloning into 'get-station-data'...\n",
            "remote: Enumerating objects: 381, done.\u001b[K\n",
            "remote: Counting objects: 100% (94/94), done.\u001b[K\n",
            "remote: Compressing objects: 100% (47/47), done.\u001b[K\n",
            "remote: Total 381 (delta 54), reused 54 (delta 47), pack-reused 287 (from 1)\u001b[K\n",
            "Receiving objects: 100% (381/381), 1.06 MiB | 4.47 MiB/s, done.\n",
            "Resolving deltas: 100% (196/196), done.\n"
          ]
        }
      ],
      "source": [
        "!git clone https://github.com/scotthosking/get-station-data.git"
      ]
    },
    {
      "cell_type": "code",
      "execution_count": 59,
      "id": "547776c1",
      "metadata": {
        "id": "547776c1"
      },
      "outputs": [],
      "source": [
        "import sys\n",
        "\n",
        "sys.path.append('get-station-data')\n",
        "\n",
        "from get_station_data import ghcnd\n",
        "from get_station_data.util import nearest_stn\n",
        "\n",
        "%matplotlib inline"
      ]
    },
    {
      "cell_type": "code",
      "execution_count": 62,
      "id": "6a646f34",
      "metadata": {
        "colab": {
          "base_uri": "https://localhost:8080/"
        },
        "id": "6a646f34",
        "outputId": "a32679fe-1c9d-4cbf-c1eb-e60932b2fc3c"
      },
      "outputs": [
        {
          "name": "stdout",
          "output_type": "stream",
          "text": [
            "Downloading inventory metadata...\n",
            "Downloading station metadata...\n"
          ]
        }
      ],
      "source": [
        "stn_md = ghcnd.get_stn_metadata()\n",
        "# stn_md\n",
        "\n",
        "# Format the data rename lat and lon to latitude and longitude\n",
        "stn_md = stn_md.rename(columns={'lat': 'latitude', 'lon': 'longitude'})"
      ]
    },
    {
      "cell_type": "code",
      "execution_count": 68,
      "id": "eec2a1fa",
      "metadata": {
        "id": "eec2a1fa"
      },
      "outputs": [],
      "source": [
        "# Nairobi coordinates\n",
        "nairobi_coords = (-1.2921, 36.8219)\n"
      ]
    },
    {
      "cell_type": "code",
      "execution_count": null,
      "id": "94dd6fa3",
      "metadata": {
        "id": "94dd6fa3"
      },
      "outputs": [],
      "source": [
        "# Get the nearest station"
      ]
    },
    {
      "cell_type": "markdown",
      "id": "67c26484",
      "metadata": {
        "id": "67c26484"
      },
      "source": [
        "#### Compare the temperature of TAHMO station/WMO station with the Met Agency data"
      ]
    },
    {
      "cell_type": "code",
      "execution_count": 65,
      "id": "3a929878",
      "metadata": {
        "id": "3a929878"
      },
      "outputs": [],
      "source": [
        "# Compare the temperatures"
      ]
    },
    {
      "cell_type": "markdown",
      "id": "6ada279c",
      "metadata": {
        "id": "6ada279c"
      },
      "source": [
        "### Extract CBAM temperature data (2012 -2024)"
      ]
    },
    {
      "cell_type": "code",
      "execution_count": null,
      "id": "de9b9bd1",
      "metadata": {
        "id": "de9b9bd1"
      },
      "outputs": [
        {
          "name": "stdout",
          "output_type": "stream",
          "text": [
            "[28.861754, -4.724299999999999, 41.9068688, 5.033420899999999]\n"
          ]
        }
      ],
      "source": [
        "# Define parameters as shown in the docs\n",
        "product = 'cbam_historical_analysis'\n",
        "attribs = [\"max_temperature\", \"min_temperature\"]\n",
        "# start_date = '2012-01-01'\n",
        "# end_date = '2023-12-31'\n",
        "eac_bbox = [xmin, ymin, xmax, ymax]\n",
        "print(eac_bbox)\n",
        "\n",
        "# Create a client and extract data\n",
        "client = CBAMClient('config.json')\n",
        "cbam_data = extract_cbam_data(start_date='2012-01-01', end_date='2024-12-31',\n",
        "                         attributes=attribs, cbam_client=client, bbox=eac_bbox,\n",
        "                         output_type='netcdf')\n"
      ]
    },
    {
      "cell_type": "markdown",
      "id": "40d13796",
      "metadata": {
        "id": "40d13796"
      },
      "source": [
        "### Extract ERA5 temperature data (1980-2025)"
      ]
    },
    {
      "cell_type": "code",
      "execution_count": null,
      "id": "f1cbbf9c",
      "metadata": {
        "id": "f1cbbf9c"
      },
      "outputs": [],
      "source": []
    },
    {
      "cell_type": "markdown",
      "id": "d6fcb3aa",
      "metadata": {
        "id": "d6fcb3aa"
      },
      "source": [
        "## Data Processing\n",
        "\n",
        "1. Ground (GHCN/TAHMO/your station) vs CBAM/ERA5\n",
        "2. PET comparison plot (CBAM vs ERA5)\n",
        "3. Count of heat/agri stress days --- Plot of the heat exchange"
      ]
    },
    {
      "cell_type": "code",
      "execution_count": null,
      "id": "a85bc980",
      "metadata": {
        "id": "a85bc980"
      },
      "outputs": [],
      "source": []
    }
  ],
  "metadata": {
    "colab": {
      "include_colab_link": true,
      "provenance": []
    },
    "kernelspec": {
      "display_name": ".venv",
      "language": "python",
      "name": "python3"
    },
    "language_info": {
      "codemirror_mode": {
        "name": "ipython",
        "version": 3
      },
      "file_extension": ".py",
      "mimetype": "text/x-python",
      "name": "python",
      "nbconvert_exporter": "python",
      "pygments_lexer": "ipython3",
      "version": "3.10.11"
    },
    "widgets": {
      "application/vnd.jupyter.widget-state+json": {
        "5ddcdf5d282a4e05b0faab67e7b78de9": {
          "model_module": "@jupyter-widgets/controls",
          "model_module_version": "2.0.0",
          "model_name": "HTMLModel",
          "state": {
            "_dom_classes": [],
            "_model_module": "@jupyter-widgets/controls",
            "_model_module_version": "2.0.0",
            "_model_name": "HTMLModel",
            "_view_count": null,
            "_view_module": "@jupyter-widgets/controls",
            "_view_module_version": "2.0.0",
            "_view_name": "HTMLView",
            "description": "",
            "description_allow_html": false,
            "layout": "IPY_MODEL_bf45eab828db4292a8287e8a577c380d",
            "placeholder": "​",
            "style": "IPY_MODEL_ee2bebf6900243679e8e5914b86093c2",
            "tabbable": null,
            "tooltip": null,
            "value": "Retrieving data for stations: 100%"
          }
        },
        "84269fd581e54102be3375be7436173d": {
          "model_module": "@jupyter-widgets/controls",
          "model_module_version": "2.0.0",
          "model_name": "FloatProgressModel",
          "state": {
            "_dom_classes": [],
            "_model_module": "@jupyter-widgets/controls",
            "_model_module_version": "2.0.0",
            "_model_name": "FloatProgressModel",
            "_view_count": null,
            "_view_module": "@jupyter-widgets/controls",
            "_view_module_version": "2.0.0",
            "_view_name": "ProgressView",
            "bar_style": "success",
            "description": "",
            "description_allow_html": false,
            "layout": "IPY_MODEL_c5c05fa01e2e4c9c80b7093626957710",
            "max": 260,
            "min": 0,
            "orientation": "horizontal",
            "style": "IPY_MODEL_e954001024644efea52b350fa6743927",
            "tabbable": null,
            "tooltip": null,
            "value": 260
          }
        },
        "9956ffe0193d411e8ae2be6ed93577f0": {
          "model_module": "@jupyter-widgets/base",
          "model_module_version": "2.0.0",
          "model_name": "LayoutModel",
          "state": {
            "_model_module": "@jupyter-widgets/base",
            "_model_module_version": "2.0.0",
            "_model_name": "LayoutModel",
            "_view_count": null,
            "_view_module": "@jupyter-widgets/base",
            "_view_module_version": "2.0.0",
            "_view_name": "LayoutView",
            "align_content": null,
            "align_items": null,
            "align_self": null,
            "border_bottom": null,
            "border_left": null,
            "border_right": null,
            "border_top": null,
            "bottom": null,
            "display": null,
            "flex": null,
            "flex_flow": null,
            "grid_area": null,
            "grid_auto_columns": null,
            "grid_auto_flow": null,
            "grid_auto_rows": null,
            "grid_column": null,
            "grid_gap": null,
            "grid_row": null,
            "grid_template_areas": null,
            "grid_template_columns": null,
            "grid_template_rows": null,
            "height": null,
            "justify_content": null,
            "justify_items": null,
            "left": null,
            "margin": null,
            "max_height": null,
            "max_width": null,
            "min_height": null,
            "min_width": null,
            "object_fit": null,
            "object_position": null,
            "order": null,
            "overflow": null,
            "padding": null,
            "right": null,
            "top": null,
            "visibility": null,
            "width": null
          }
        },
        "9f7567cfd9b547b6aadf74ae56c759b9": {
          "model_module": "@jupyter-widgets/controls",
          "model_module_version": "2.0.0",
          "model_name": "HTMLModel",
          "state": {
            "_dom_classes": [],
            "_model_module": "@jupyter-widgets/controls",
            "_model_module_version": "2.0.0",
            "_model_name": "HTMLModel",
            "_view_count": null,
            "_view_module": "@jupyter-widgets/controls",
            "_view_module_version": "2.0.0",
            "_view_name": "HTMLView",
            "description": "",
            "description_allow_html": false,
            "layout": "IPY_MODEL_f7512dbe63ba48b495f037d78dcd0d67",
            "placeholder": "​",
            "style": "IPY_MODEL_c8fd962605f543ce94c05fefa02bfff0",
            "tabbable": null,
            "tooltip": null,
            "value": " 260/260 [03:02&lt;00:00,  2.97it/s]"
          }
        },
        "af82639a3b0b4fabbc294108542f4efb": {
          "model_module": "@jupyter-widgets/controls",
          "model_module_version": "2.0.0",
          "model_name": "HBoxModel",
          "state": {
            "_dom_classes": [],
            "_model_module": "@jupyter-widgets/controls",
            "_model_module_version": "2.0.0",
            "_model_name": "HBoxModel",
            "_view_count": null,
            "_view_module": "@jupyter-widgets/controls",
            "_view_module_version": "2.0.0",
            "_view_name": "HBoxView",
            "box_style": "",
            "children": [
              "IPY_MODEL_5ddcdf5d282a4e05b0faab67e7b78de9",
              "IPY_MODEL_84269fd581e54102be3375be7436173d",
              "IPY_MODEL_9f7567cfd9b547b6aadf74ae56c759b9"
            ],
            "layout": "IPY_MODEL_9956ffe0193d411e8ae2be6ed93577f0",
            "tabbable": null,
            "tooltip": null
          }
        },
        "bf45eab828db4292a8287e8a577c380d": {
          "model_module": "@jupyter-widgets/base",
          "model_module_version": "2.0.0",
          "model_name": "LayoutModel",
          "state": {
            "_model_module": "@jupyter-widgets/base",
            "_model_module_version": "2.0.0",
            "_model_name": "LayoutModel",
            "_view_count": null,
            "_view_module": "@jupyter-widgets/base",
            "_view_module_version": "2.0.0",
            "_view_name": "LayoutView",
            "align_content": null,
            "align_items": null,
            "align_self": null,
            "border_bottom": null,
            "border_left": null,
            "border_right": null,
            "border_top": null,
            "bottom": null,
            "display": null,
            "flex": null,
            "flex_flow": null,
            "grid_area": null,
            "grid_auto_columns": null,
            "grid_auto_flow": null,
            "grid_auto_rows": null,
            "grid_column": null,
            "grid_gap": null,
            "grid_row": null,
            "grid_template_areas": null,
            "grid_template_columns": null,
            "grid_template_rows": null,
            "height": null,
            "justify_content": null,
            "justify_items": null,
            "left": null,
            "margin": null,
            "max_height": null,
            "max_width": null,
            "min_height": null,
            "min_width": null,
            "object_fit": null,
            "object_position": null,
            "order": null,
            "overflow": null,
            "padding": null,
            "right": null,
            "top": null,
            "visibility": null,
            "width": null
          }
        },
        "c5c05fa01e2e4c9c80b7093626957710": {
          "model_module": "@jupyter-widgets/base",
          "model_module_version": "2.0.0",
          "model_name": "LayoutModel",
          "state": {
            "_model_module": "@jupyter-widgets/base",
            "_model_module_version": "2.0.0",
            "_model_name": "LayoutModel",
            "_view_count": null,
            "_view_module": "@jupyter-widgets/base",
            "_view_module_version": "2.0.0",
            "_view_name": "LayoutView",
            "align_content": null,
            "align_items": null,
            "align_self": null,
            "border_bottom": null,
            "border_left": null,
            "border_right": null,
            "border_top": null,
            "bottom": null,
            "display": null,
            "flex": null,
            "flex_flow": null,
            "grid_area": null,
            "grid_auto_columns": null,
            "grid_auto_flow": null,
            "grid_auto_rows": null,
            "grid_column": null,
            "grid_gap": null,
            "grid_row": null,
            "grid_template_areas": null,
            "grid_template_columns": null,
            "grid_template_rows": null,
            "height": null,
            "justify_content": null,
            "justify_items": null,
            "left": null,
            "margin": null,
            "max_height": null,
            "max_width": null,
            "min_height": null,
            "min_width": null,
            "object_fit": null,
            "object_position": null,
            "order": null,
            "overflow": null,
            "padding": null,
            "right": null,
            "top": null,
            "visibility": null,
            "width": null
          }
        },
        "c8fd962605f543ce94c05fefa02bfff0": {
          "model_module": "@jupyter-widgets/controls",
          "model_module_version": "2.0.0",
          "model_name": "HTMLStyleModel",
          "state": {
            "_model_module": "@jupyter-widgets/controls",
            "_model_module_version": "2.0.0",
            "_model_name": "HTMLStyleModel",
            "_view_count": null,
            "_view_module": "@jupyter-widgets/base",
            "_view_module_version": "2.0.0",
            "_view_name": "StyleView",
            "background": null,
            "description_width": "",
            "font_size": null,
            "text_color": null
          }
        },
        "e954001024644efea52b350fa6743927": {
          "model_module": "@jupyter-widgets/controls",
          "model_module_version": "2.0.0",
          "model_name": "ProgressStyleModel",
          "state": {
            "_model_module": "@jupyter-widgets/controls",
            "_model_module_version": "2.0.0",
            "_model_name": "ProgressStyleModel",
            "_view_count": null,
            "_view_module": "@jupyter-widgets/base",
            "_view_module_version": "2.0.0",
            "_view_name": "StyleView",
            "bar_color": null,
            "description_width": ""
          }
        },
        "ee2bebf6900243679e8e5914b86093c2": {
          "model_module": "@jupyter-widgets/controls",
          "model_module_version": "2.0.0",
          "model_name": "HTMLStyleModel",
          "state": {
            "_model_module": "@jupyter-widgets/controls",
            "_model_module_version": "2.0.0",
            "_model_name": "HTMLStyleModel",
            "_view_count": null,
            "_view_module": "@jupyter-widgets/base",
            "_view_module_version": "2.0.0",
            "_view_name": "StyleView",
            "background": null,
            "description_width": "",
            "font_size": null,
            "text_color": null
          }
        },
        "f7512dbe63ba48b495f037d78dcd0d67": {
          "model_module": "@jupyter-widgets/base",
          "model_module_version": "2.0.0",
          "model_name": "LayoutModel",
          "state": {
            "_model_module": "@jupyter-widgets/base",
            "_model_module_version": "2.0.0",
            "_model_name": "LayoutModel",
            "_view_count": null,
            "_view_module": "@jupyter-widgets/base",
            "_view_module_version": "2.0.0",
            "_view_name": "LayoutView",
            "align_content": null,
            "align_items": null,
            "align_self": null,
            "border_bottom": null,
            "border_left": null,
            "border_right": null,
            "border_top": null,
            "bottom": null,
            "display": null,
            "flex": null,
            "flex_flow": null,
            "grid_area": null,
            "grid_auto_columns": null,
            "grid_auto_flow": null,
            "grid_auto_rows": null,
            "grid_column": null,
            "grid_gap": null,
            "grid_row": null,
            "grid_template_areas": null,
            "grid_template_columns": null,
            "grid_template_rows": null,
            "height": null,
            "justify_content": null,
            "justify_items": null,
            "left": null,
            "margin": null,
            "max_height": null,
            "max_width": null,
            "min_height": null,
            "min_width": null,
            "object_fit": null,
            "object_position": null,
            "order": null,
            "overflow": null,
            "padding": null,
            "right": null,
            "top": null,
            "visibility": null,
            "width": null
          }
        }
      }
    }
  },
  "nbformat": 4,
  "nbformat_minor": 5
}
